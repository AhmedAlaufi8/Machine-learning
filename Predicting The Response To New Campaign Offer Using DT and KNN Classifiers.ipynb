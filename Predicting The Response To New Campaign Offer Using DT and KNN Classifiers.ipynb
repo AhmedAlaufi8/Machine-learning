{
 "cells": [
  {
   "cell_type": "markdown",
   "metadata": {},
   "source": [
    "## **Import Importnant Libraries**"
   ]
  },
  {
   "cell_type": "code",
   "execution_count": 143,
   "metadata": {
    "_cell_guid": "b1076dfc-b9ad-4769-8c92-a6c4dae69d19",
    "_kg_hide-input": true,
    "_uuid": "8f2839f25d086af736a60e9eeb907d3b93b6e0e5",
    "execution": {
     "iopub.execute_input": "2024-01-06T20:49:11.481253Z",
     "iopub.status.busy": "2024-01-06T20:49:11.480515Z",
     "iopub.status.idle": "2024-01-06T20:49:14.796351Z",
     "shell.execute_reply": "2024-01-06T20:49:14.794816Z",
     "shell.execute_reply.started": "2024-01-06T20:49:11.481211Z"
    }
   },
   "outputs": [],
   "source": [
    "import numpy as np\n",
    "import pandas as pd \n",
    "\n",
    "#For Data visualization\n",
    "import matplotlib.pyplot as plt\n",
    "import seaborn as sns\n",
    "\n",
    "#For Data modeling\n",
    "from sklearn.tree import DecisionTreeClassifier\n",
    "from sklearn.neighbors import KNeighborsClassifier\n",
    "\n",
    "# Metrics and helpful functions\n",
    "from sklearn.model_selection import GridSearchCV, train_test_split\n",
    "from sklearn.tree import plot_tree\n",
    "from sklearn.metrics import accuracy_score, precision_score, recall_score,f1_score, confusion_matrix, ConfusionMatrixDisplay, classification_report\n",
    "from sklearn.metrics import roc_auc_score, roc_curve\n",
    "\n",
    "import warnings\n",
    "warnings.filterwarnings(\"ignore\")"
   ]
  },
  {
   "cell_type": "markdown",
   "metadata": {},
   "source": [
    "## **Read the Dataset**"
   ]
  },
  {
   "cell_type": "code",
   "execution_count": 58,
   "metadata": {
    "_kg_hide-input": true,
    "execution": {
     "iopub.execute_input": "2024-01-06T20:49:14.800347Z",
     "iopub.status.busy": "2024-01-06T20:49:14.799137Z",
     "iopub.status.idle": "2024-01-06T20:49:14.843500Z",
     "shell.execute_reply": "2024-01-06T20:49:14.842254Z",
     "shell.execute_reply.started": "2024-01-06T20:49:14.800295Z"
    }
   },
   "outputs": [],
   "source": [
    "df = pd.read_csv('ifood_df.csv')"
   ]
  },
  {
   "cell_type": "code",
   "execution_count": 59,
   "metadata": {
    "_kg_hide-input": true,
    "_kg_hide-output": false,
    "execution": {
     "iopub.execute_input": "2024-01-06T20:49:37.705706Z",
     "iopub.status.busy": "2024-01-06T20:49:37.705194Z",
     "iopub.status.idle": "2024-01-06T20:49:37.739540Z",
     "shell.execute_reply": "2024-01-06T20:49:37.737906Z",
     "shell.execute_reply.started": "2024-01-06T20:49:37.705670Z"
    }
   },
   "outputs": [
    {
     "data": {
      "text/html": [
       "<div>\n",
       "<style scoped>\n",
       "    .dataframe tbody tr th:only-of-type {\n",
       "        vertical-align: middle;\n",
       "    }\n",
       "\n",
       "    .dataframe tbody tr th {\n",
       "        vertical-align: top;\n",
       "    }\n",
       "\n",
       "    .dataframe thead th {\n",
       "        text-align: right;\n",
       "    }\n",
       "</style>\n",
       "<table border=\"1\" class=\"dataframe\">\n",
       "  <thead>\n",
       "    <tr style=\"text-align: right;\">\n",
       "      <th></th>\n",
       "      <th>Income</th>\n",
       "      <th>Kidhome</th>\n",
       "      <th>Teenhome</th>\n",
       "      <th>Recency</th>\n",
       "      <th>MntWines</th>\n",
       "      <th>MntFruits</th>\n",
       "      <th>MntMeatProducts</th>\n",
       "      <th>MntFishProducts</th>\n",
       "      <th>MntSweetProducts</th>\n",
       "      <th>MntGoldProds</th>\n",
       "      <th>...</th>\n",
       "      <th>marital_Together</th>\n",
       "      <th>marital_Widow</th>\n",
       "      <th>education_2n Cycle</th>\n",
       "      <th>education_Basic</th>\n",
       "      <th>education_Graduation</th>\n",
       "      <th>education_Master</th>\n",
       "      <th>education_PhD</th>\n",
       "      <th>MntTotal</th>\n",
       "      <th>MntRegularProds</th>\n",
       "      <th>AcceptedCmpOverall</th>\n",
       "    </tr>\n",
       "  </thead>\n",
       "  <tbody>\n",
       "    <tr>\n",
       "      <th>0</th>\n",
       "      <td>58138.0</td>\n",
       "      <td>0</td>\n",
       "      <td>0</td>\n",
       "      <td>58</td>\n",
       "      <td>635</td>\n",
       "      <td>88</td>\n",
       "      <td>546.0</td>\n",
       "      <td>172</td>\n",
       "      <td>88</td>\n",
       "      <td>88</td>\n",
       "      <td>...</td>\n",
       "      <td>0</td>\n",
       "      <td>0</td>\n",
       "      <td>0</td>\n",
       "      <td>0</td>\n",
       "      <td>1</td>\n",
       "      <td>0</td>\n",
       "      <td>0</td>\n",
       "      <td>1529</td>\n",
       "      <td>1441</td>\n",
       "      <td>0</td>\n",
       "    </tr>\n",
       "    <tr>\n",
       "      <th>1</th>\n",
       "      <td>46344.0</td>\n",
       "      <td>1</td>\n",
       "      <td>1</td>\n",
       "      <td>38</td>\n",
       "      <td>11</td>\n",
       "      <td>1</td>\n",
       "      <td>6.0</td>\n",
       "      <td>2</td>\n",
       "      <td>1</td>\n",
       "      <td>6</td>\n",
       "      <td>...</td>\n",
       "      <td>0</td>\n",
       "      <td>0</td>\n",
       "      <td>0</td>\n",
       "      <td>0</td>\n",
       "      <td>1</td>\n",
       "      <td>0</td>\n",
       "      <td>0</td>\n",
       "      <td>21</td>\n",
       "      <td>15</td>\n",
       "      <td>0</td>\n",
       "    </tr>\n",
       "    <tr>\n",
       "      <th>2</th>\n",
       "      <td>71613.0</td>\n",
       "      <td>0</td>\n",
       "      <td>0</td>\n",
       "      <td>26</td>\n",
       "      <td>426</td>\n",
       "      <td>49</td>\n",
       "      <td>127.0</td>\n",
       "      <td>111</td>\n",
       "      <td>21</td>\n",
       "      <td>42</td>\n",
       "      <td>...</td>\n",
       "      <td>1</td>\n",
       "      <td>0</td>\n",
       "      <td>0</td>\n",
       "      <td>0</td>\n",
       "      <td>1</td>\n",
       "      <td>0</td>\n",
       "      <td>0</td>\n",
       "      <td>734</td>\n",
       "      <td>692</td>\n",
       "      <td>0</td>\n",
       "    </tr>\n",
       "    <tr>\n",
       "      <th>3</th>\n",
       "      <td>26646.0</td>\n",
       "      <td>1</td>\n",
       "      <td>0</td>\n",
       "      <td>26</td>\n",
       "      <td>11</td>\n",
       "      <td>4</td>\n",
       "      <td>20.0</td>\n",
       "      <td>10</td>\n",
       "      <td>3</td>\n",
       "      <td>5</td>\n",
       "      <td>...</td>\n",
       "      <td>1</td>\n",
       "      <td>0</td>\n",
       "      <td>0</td>\n",
       "      <td>0</td>\n",
       "      <td>1</td>\n",
       "      <td>0</td>\n",
       "      <td>0</td>\n",
       "      <td>48</td>\n",
       "      <td>43</td>\n",
       "      <td>0</td>\n",
       "    </tr>\n",
       "    <tr>\n",
       "      <th>4</th>\n",
       "      <td>58293.0</td>\n",
       "      <td>1</td>\n",
       "      <td>0</td>\n",
       "      <td>94</td>\n",
       "      <td>173</td>\n",
       "      <td>43</td>\n",
       "      <td>118.0</td>\n",
       "      <td>46</td>\n",
       "      <td>27</td>\n",
       "      <td>15</td>\n",
       "      <td>...</td>\n",
       "      <td>0</td>\n",
       "      <td>0</td>\n",
       "      <td>0</td>\n",
       "      <td>0</td>\n",
       "      <td>0</td>\n",
       "      <td>0</td>\n",
       "      <td>1</td>\n",
       "      <td>407</td>\n",
       "      <td>392</td>\n",
       "      <td>0</td>\n",
       "    </tr>\n",
       "  </tbody>\n",
       "</table>\n",
       "<p>5 rows × 39 columns</p>\n",
       "</div>"
      ],
      "text/plain": [
       "    Income  Kidhome  Teenhome  Recency  MntWines  MntFruits  MntMeatProducts  \\\n",
       "0  58138.0        0         0       58       635         88            546.0   \n",
       "1  46344.0        1         1       38        11          1              6.0   \n",
       "2  71613.0        0         0       26       426         49            127.0   \n",
       "3  26646.0        1         0       26        11          4             20.0   \n",
       "4  58293.0        1         0       94       173         43            118.0   \n",
       "\n",
       "   MntFishProducts  MntSweetProducts  MntGoldProds  ...  marital_Together  \\\n",
       "0              172                88            88  ...                 0   \n",
       "1                2                 1             6  ...                 0   \n",
       "2              111                21            42  ...                 1   \n",
       "3               10                 3             5  ...                 1   \n",
       "4               46                27            15  ...                 0   \n",
       "\n",
       "   marital_Widow  education_2n Cycle  education_Basic  education_Graduation  \\\n",
       "0              0                   0                0                     1   \n",
       "1              0                   0                0                     1   \n",
       "2              0                   0                0                     1   \n",
       "3              0                   0                0                     1   \n",
       "4              0                   0                0                     0   \n",
       "\n",
       "   education_Master  education_PhD  MntTotal  MntRegularProds  \\\n",
       "0                 0              0      1529             1441   \n",
       "1                 0              0        21               15   \n",
       "2                 0              0       734              692   \n",
       "3                 0              0        48               43   \n",
       "4                 0              1       407              392   \n",
       "\n",
       "   AcceptedCmpOverall  \n",
       "0                   0  \n",
       "1                   0  \n",
       "2                   0  \n",
       "3                   0  \n",
       "4                   0  \n",
       "\n",
       "[5 rows x 39 columns]"
      ]
     },
     "execution_count": 59,
     "metadata": {},
     "output_type": "execute_result"
    }
   ],
   "source": [
    "df.head()"
   ]
  },
  {
   "cell_type": "markdown",
   "metadata": {},
   "source": [
    "From the first rows of data, we notice customer related data about income, education, family, purchases, channels and campaign response."
   ]
  },
  {
   "cell_type": "markdown",
   "metadata": {},
   "source": [
    "##  **Exploratory Data Analysis**"
   ]
  },
  {
   "cell_type": "code",
   "execution_count": 60,
   "metadata": {
    "execution": {
     "iopub.execute_input": "2024-01-06T20:56:21.530922Z",
     "iopub.status.busy": "2024-01-06T20:56:21.530398Z",
     "iopub.status.idle": "2024-01-06T20:56:21.562794Z",
     "shell.execute_reply": "2024-01-06T20:56:21.561777Z",
     "shell.execute_reply.started": "2024-01-06T20:56:21.530886Z"
    }
   },
   "outputs": [
    {
     "name": "stdout",
     "output_type": "stream",
     "text": [
      "<class 'pandas.core.frame.DataFrame'>\n",
      "RangeIndex: 2205 entries, 0 to 2204\n",
      "Data columns (total 39 columns):\n",
      " #   Column                Non-Null Count  Dtype  \n",
      "---  ------                --------------  -----  \n",
      " 0   Income                2204 non-null   float64\n",
      " 1   Kidhome               2205 non-null   int64  \n",
      " 2   Teenhome              2205 non-null   int64  \n",
      " 3   Recency               2205 non-null   int64  \n",
      " 4   MntWines              2205 non-null   int64  \n",
      " 5   MntFruits             2205 non-null   int64  \n",
      " 6   MntMeatProducts       2204 non-null   float64\n",
      " 7   MntFishProducts       2205 non-null   int64  \n",
      " 8   MntSweetProducts      2205 non-null   int64  \n",
      " 9   MntGoldProds          2205 non-null   int64  \n",
      " 10  NumDealsPurchases     2205 non-null   int64  \n",
      " 11  NumWebPurchases       2205 non-null   int64  \n",
      " 12  NumCatalogPurchases   2205 non-null   int64  \n",
      " 13  NumStorePurchases     2205 non-null   int64  \n",
      " 14  NumWebVisitsMonth     2195 non-null   float64\n",
      " 15  AcceptedCmp3          2205 non-null   int64  \n",
      " 16  AcceptedCmp4          2205 non-null   int64  \n",
      " 17  AcceptedCmp5          2205 non-null   int64  \n",
      " 18  AcceptedCmp1          2205 non-null   int64  \n",
      " 19  AcceptedCmp2          2205 non-null   int64  \n",
      " 20  Complain              2205 non-null   int64  \n",
      " 21  Z_CostContact         2205 non-null   int64  \n",
      " 22  Z_Revenue             2205 non-null   int64  \n",
      " 23  Response              2205 non-null   int64  \n",
      " 24  Age                   2205 non-null   int64  \n",
      " 25  Customer_Days         2205 non-null   int64  \n",
      " 26  marital_Divorced      2205 non-null   int64  \n",
      " 27  marital_Married       2205 non-null   int64  \n",
      " 28  marital_Single        2205 non-null   int64  \n",
      " 29  marital_Together      2205 non-null   int64  \n",
      " 30  marital_Widow         2205 non-null   int64  \n",
      " 31  education_2n Cycle    2205 non-null   int64  \n",
      " 32  education_Basic       2205 non-null   int64  \n",
      " 33  education_Graduation  2205 non-null   int64  \n",
      " 34  education_Master      2205 non-null   int64  \n",
      " 35  education_PhD         2205 non-null   int64  \n",
      " 36  MntTotal              2205 non-null   int64  \n",
      " 37  MntRegularProds       2205 non-null   int64  \n",
      " 38  AcceptedCmpOverall    2205 non-null   int64  \n",
      "dtypes: float64(3), int64(36)\n",
      "memory usage: 672.0 KB\n"
     ]
    }
   ],
   "source": [
    "df.info()"
   ]
  },
  {
   "cell_type": "code",
   "execution_count": 61,
   "metadata": {
    "_kg_hide-input": true,
    "execution": {
     "iopub.execute_input": "2024-01-06T20:56:26.754927Z",
     "iopub.status.busy": "2024-01-06T20:56:26.753814Z",
     "iopub.status.idle": "2024-01-06T20:56:26.765480Z",
     "shell.execute_reply": "2024-01-06T20:56:26.763661Z",
     "shell.execute_reply.started": "2024-01-06T20:56:26.754870Z"
    }
   },
   "outputs": [],
   "source": [
    "df = df.reindex(columns=['Age','education_2n Cycle', 'education_Basic', 'education_Graduation', 'education_Master', \n",
    "                         'education_PhD', 'Income','marital_Single', 'marital_Married', 'marital_Together', 'marital_Divorced', 'marital_Widow',\n",
    "                         'Kidhome', 'Teenhome', 'Recency', 'NumWebVisitsMonth', 'Customer_Days', 'Complain',\n",
    "                         'MntTotal', 'MntRegularProds','MntWines', 'MntFruits','MntMeatProducts', \n",
    "                         'MntFishProducts', 'MntSweetProducts','MntGoldProds', 'NumDealsPurchases', 'NumWebPurchases',\n",
    "                         'NumCatalogPurchases', 'NumStorePurchases', 'AcceptedCmp1','AcceptedCmp2','AcceptedCmp3', \n",
    "                         'AcceptedCmp4', 'AcceptedCmp5', 'AcceptedCmpOverall','Response', 'Z_CostContact', 'Z_Revenue' \n",
    "                        ]\n",
    "               )"
   ]
  },
  {
   "cell_type": "code",
   "execution_count": 62,
   "metadata": {},
   "outputs": [
    {
     "data": {
      "text/html": [
       "<div>\n",
       "<style scoped>\n",
       "    .dataframe tbody tr th:only-of-type {\n",
       "        vertical-align: middle;\n",
       "    }\n",
       "\n",
       "    .dataframe tbody tr th {\n",
       "        vertical-align: top;\n",
       "    }\n",
       "\n",
       "    .dataframe thead th {\n",
       "        text-align: right;\n",
       "    }\n",
       "</style>\n",
       "<table border=\"1\" class=\"dataframe\">\n",
       "  <thead>\n",
       "    <tr style=\"text-align: right;\">\n",
       "      <th></th>\n",
       "      <th>Age</th>\n",
       "      <th>education_2n Cycle</th>\n",
       "      <th>education_Basic</th>\n",
       "      <th>education_Graduation</th>\n",
       "      <th>education_Master</th>\n",
       "      <th>education_PhD</th>\n",
       "      <th>Income</th>\n",
       "      <th>marital_Single</th>\n",
       "      <th>marital_Married</th>\n",
       "      <th>marital_Together</th>\n",
       "      <th>...</th>\n",
       "      <th>NumStorePurchases</th>\n",
       "      <th>AcceptedCmp1</th>\n",
       "      <th>AcceptedCmp2</th>\n",
       "      <th>AcceptedCmp3</th>\n",
       "      <th>AcceptedCmp4</th>\n",
       "      <th>AcceptedCmp5</th>\n",
       "      <th>AcceptedCmpOverall</th>\n",
       "      <th>Response</th>\n",
       "      <th>Z_CostContact</th>\n",
       "      <th>Z_Revenue</th>\n",
       "    </tr>\n",
       "  </thead>\n",
       "  <tbody>\n",
       "    <tr>\n",
       "      <th>count</th>\n",
       "      <td>2205.000000</td>\n",
       "      <td>2205.000000</td>\n",
       "      <td>2205.000000</td>\n",
       "      <td>2205.000000</td>\n",
       "      <td>2205.000000</td>\n",
       "      <td>2205.000000</td>\n",
       "      <td>2204.000000</td>\n",
       "      <td>2205.000000</td>\n",
       "      <td>2205.000000</td>\n",
       "      <td>2205.000000</td>\n",
       "      <td>...</td>\n",
       "      <td>2205.000000</td>\n",
       "      <td>2205.000000</td>\n",
       "      <td>2205.000000</td>\n",
       "      <td>2205.000000</td>\n",
       "      <td>2205.000000</td>\n",
       "      <td>2205.000000</td>\n",
       "      <td>2205.00000</td>\n",
       "      <td>2205.00000</td>\n",
       "      <td>2205.0</td>\n",
       "      <td>2205.0</td>\n",
       "    </tr>\n",
       "    <tr>\n",
       "      <th>mean</th>\n",
       "      <td>51.095692</td>\n",
       "      <td>0.089796</td>\n",
       "      <td>0.024490</td>\n",
       "      <td>0.504762</td>\n",
       "      <td>0.165079</td>\n",
       "      <td>0.215873</td>\n",
       "      <td>51618.586661</td>\n",
       "      <td>0.216327</td>\n",
       "      <td>0.387302</td>\n",
       "      <td>0.257596</td>\n",
       "      <td>...</td>\n",
       "      <td>5.823583</td>\n",
       "      <td>0.064399</td>\n",
       "      <td>0.013605</td>\n",
       "      <td>0.073923</td>\n",
       "      <td>0.074376</td>\n",
       "      <td>0.073016</td>\n",
       "      <td>0.29932</td>\n",
       "      <td>0.15102</td>\n",
       "      <td>3.0</td>\n",
       "      <td>11.0</td>\n",
       "    </tr>\n",
       "    <tr>\n",
       "      <th>std</th>\n",
       "      <td>11.705801</td>\n",
       "      <td>0.285954</td>\n",
       "      <td>0.154599</td>\n",
       "      <td>0.500091</td>\n",
       "      <td>0.371336</td>\n",
       "      <td>0.411520</td>\n",
       "      <td>20717.109173</td>\n",
       "      <td>0.411833</td>\n",
       "      <td>0.487244</td>\n",
       "      <td>0.437410</td>\n",
       "      <td>...</td>\n",
       "      <td>3.241796</td>\n",
       "      <td>0.245518</td>\n",
       "      <td>0.115872</td>\n",
       "      <td>0.261705</td>\n",
       "      <td>0.262442</td>\n",
       "      <td>0.260222</td>\n",
       "      <td>0.68044</td>\n",
       "      <td>0.35815</td>\n",
       "      <td>0.0</td>\n",
       "      <td>0.0</td>\n",
       "    </tr>\n",
       "    <tr>\n",
       "      <th>min</th>\n",
       "      <td>24.000000</td>\n",
       "      <td>0.000000</td>\n",
       "      <td>0.000000</td>\n",
       "      <td>0.000000</td>\n",
       "      <td>0.000000</td>\n",
       "      <td>0.000000</td>\n",
       "      <td>1730.000000</td>\n",
       "      <td>0.000000</td>\n",
       "      <td>0.000000</td>\n",
       "      <td>0.000000</td>\n",
       "      <td>...</td>\n",
       "      <td>0.000000</td>\n",
       "      <td>0.000000</td>\n",
       "      <td>0.000000</td>\n",
       "      <td>0.000000</td>\n",
       "      <td>0.000000</td>\n",
       "      <td>0.000000</td>\n",
       "      <td>0.00000</td>\n",
       "      <td>0.00000</td>\n",
       "      <td>3.0</td>\n",
       "      <td>11.0</td>\n",
       "    </tr>\n",
       "    <tr>\n",
       "      <th>25%</th>\n",
       "      <td>43.000000</td>\n",
       "      <td>0.000000</td>\n",
       "      <td>0.000000</td>\n",
       "      <td>0.000000</td>\n",
       "      <td>0.000000</td>\n",
       "      <td>0.000000</td>\n",
       "      <td>35191.500000</td>\n",
       "      <td>0.000000</td>\n",
       "      <td>0.000000</td>\n",
       "      <td>0.000000</td>\n",
       "      <td>...</td>\n",
       "      <td>3.000000</td>\n",
       "      <td>0.000000</td>\n",
       "      <td>0.000000</td>\n",
       "      <td>0.000000</td>\n",
       "      <td>0.000000</td>\n",
       "      <td>0.000000</td>\n",
       "      <td>0.00000</td>\n",
       "      <td>0.00000</td>\n",
       "      <td>3.0</td>\n",
       "      <td>11.0</td>\n",
       "    </tr>\n",
       "    <tr>\n",
       "      <th>50%</th>\n",
       "      <td>50.000000</td>\n",
       "      <td>0.000000</td>\n",
       "      <td>0.000000</td>\n",
       "      <td>1.000000</td>\n",
       "      <td>0.000000</td>\n",
       "      <td>0.000000</td>\n",
       "      <td>51277.000000</td>\n",
       "      <td>0.000000</td>\n",
       "      <td>0.000000</td>\n",
       "      <td>0.000000</td>\n",
       "      <td>...</td>\n",
       "      <td>5.000000</td>\n",
       "      <td>0.000000</td>\n",
       "      <td>0.000000</td>\n",
       "      <td>0.000000</td>\n",
       "      <td>0.000000</td>\n",
       "      <td>0.000000</td>\n",
       "      <td>0.00000</td>\n",
       "      <td>0.00000</td>\n",
       "      <td>3.0</td>\n",
       "      <td>11.0</td>\n",
       "    </tr>\n",
       "    <tr>\n",
       "      <th>75%</th>\n",
       "      <td>61.000000</td>\n",
       "      <td>0.000000</td>\n",
       "      <td>0.000000</td>\n",
       "      <td>1.000000</td>\n",
       "      <td>0.000000</td>\n",
       "      <td>0.000000</td>\n",
       "      <td>68289.750000</td>\n",
       "      <td>0.000000</td>\n",
       "      <td>1.000000</td>\n",
       "      <td>1.000000</td>\n",
       "      <td>...</td>\n",
       "      <td>8.000000</td>\n",
       "      <td>0.000000</td>\n",
       "      <td>0.000000</td>\n",
       "      <td>0.000000</td>\n",
       "      <td>0.000000</td>\n",
       "      <td>0.000000</td>\n",
       "      <td>0.00000</td>\n",
       "      <td>0.00000</td>\n",
       "      <td>3.0</td>\n",
       "      <td>11.0</td>\n",
       "    </tr>\n",
       "    <tr>\n",
       "      <th>max</th>\n",
       "      <td>80.000000</td>\n",
       "      <td>1.000000</td>\n",
       "      <td>1.000000</td>\n",
       "      <td>1.000000</td>\n",
       "      <td>1.000000</td>\n",
       "      <td>1.000000</td>\n",
       "      <td>113734.000000</td>\n",
       "      <td>1.000000</td>\n",
       "      <td>1.000000</td>\n",
       "      <td>1.000000</td>\n",
       "      <td>...</td>\n",
       "      <td>13.000000</td>\n",
       "      <td>1.000000</td>\n",
       "      <td>1.000000</td>\n",
       "      <td>1.000000</td>\n",
       "      <td>1.000000</td>\n",
       "      <td>1.000000</td>\n",
       "      <td>4.00000</td>\n",
       "      <td>1.00000</td>\n",
       "      <td>3.0</td>\n",
       "      <td>11.0</td>\n",
       "    </tr>\n",
       "  </tbody>\n",
       "</table>\n",
       "<p>8 rows × 39 columns</p>\n",
       "</div>"
      ],
      "text/plain": [
       "               Age  education_2n Cycle  education_Basic  education_Graduation  \\\n",
       "count  2205.000000         2205.000000      2205.000000           2205.000000   \n",
       "mean     51.095692            0.089796         0.024490              0.504762   \n",
       "std      11.705801            0.285954         0.154599              0.500091   \n",
       "min      24.000000            0.000000         0.000000              0.000000   \n",
       "25%      43.000000            0.000000         0.000000              0.000000   \n",
       "50%      50.000000            0.000000         0.000000              1.000000   \n",
       "75%      61.000000            0.000000         0.000000              1.000000   \n",
       "max      80.000000            1.000000         1.000000              1.000000   \n",
       "\n",
       "       education_Master  education_PhD         Income  marital_Single  \\\n",
       "count       2205.000000    2205.000000    2204.000000     2205.000000   \n",
       "mean           0.165079       0.215873   51618.586661        0.216327   \n",
       "std            0.371336       0.411520   20717.109173        0.411833   \n",
       "min            0.000000       0.000000    1730.000000        0.000000   \n",
       "25%            0.000000       0.000000   35191.500000        0.000000   \n",
       "50%            0.000000       0.000000   51277.000000        0.000000   \n",
       "75%            0.000000       0.000000   68289.750000        0.000000   \n",
       "max            1.000000       1.000000  113734.000000        1.000000   \n",
       "\n",
       "       marital_Married  marital_Together  ...  NumStorePurchases  \\\n",
       "count      2205.000000       2205.000000  ...        2205.000000   \n",
       "mean          0.387302          0.257596  ...           5.823583   \n",
       "std           0.487244          0.437410  ...           3.241796   \n",
       "min           0.000000          0.000000  ...           0.000000   \n",
       "25%           0.000000          0.000000  ...           3.000000   \n",
       "50%           0.000000          0.000000  ...           5.000000   \n",
       "75%           1.000000          1.000000  ...           8.000000   \n",
       "max           1.000000          1.000000  ...          13.000000   \n",
       "\n",
       "       AcceptedCmp1  AcceptedCmp2  AcceptedCmp3  AcceptedCmp4  AcceptedCmp5  \\\n",
       "count   2205.000000   2205.000000   2205.000000   2205.000000   2205.000000   \n",
       "mean       0.064399      0.013605      0.073923      0.074376      0.073016   \n",
       "std        0.245518      0.115872      0.261705      0.262442      0.260222   \n",
       "min        0.000000      0.000000      0.000000      0.000000      0.000000   \n",
       "25%        0.000000      0.000000      0.000000      0.000000      0.000000   \n",
       "50%        0.000000      0.000000      0.000000      0.000000      0.000000   \n",
       "75%        0.000000      0.000000      0.000000      0.000000      0.000000   \n",
       "max        1.000000      1.000000      1.000000      1.000000      1.000000   \n",
       "\n",
       "       AcceptedCmpOverall    Response  Z_CostContact  Z_Revenue  \n",
       "count          2205.00000  2205.00000         2205.0     2205.0  \n",
       "mean              0.29932     0.15102            3.0       11.0  \n",
       "std               0.68044     0.35815            0.0        0.0  \n",
       "min               0.00000     0.00000            3.0       11.0  \n",
       "25%               0.00000     0.00000            3.0       11.0  \n",
       "50%               0.00000     0.00000            3.0       11.0  \n",
       "75%               0.00000     0.00000            3.0       11.0  \n",
       "max               4.00000     1.00000            3.0       11.0  \n",
       "\n",
       "[8 rows x 39 columns]"
      ]
     },
     "execution_count": 62,
     "metadata": {},
     "output_type": "execute_result"
    }
   ],
   "source": [
    "df.describe()"
   ]
  },
  {
   "cell_type": "code",
   "execution_count": 63,
   "metadata": {
    "execution": {
     "iopub.execute_input": "2024-01-06T20:57:40.023123Z",
     "iopub.status.busy": "2024-01-06T20:57:40.022552Z",
     "iopub.status.idle": "2024-01-06T20:57:40.034545Z",
     "shell.execute_reply": "2024-01-06T20:57:40.033130Z",
     "shell.execute_reply.started": "2024-01-06T20:57:40.023072Z"
    }
   },
   "outputs": [
    {
     "data": {
      "text/plain": [
       "Age                      0\n",
       "education_2n Cycle       0\n",
       "education_Basic          0\n",
       "education_Graduation     0\n",
       "education_Master         0\n",
       "education_PhD            0\n",
       "Income                   1\n",
       "marital_Single           0\n",
       "marital_Married          0\n",
       "marital_Together         0\n",
       "marital_Divorced         0\n",
       "marital_Widow            0\n",
       "Kidhome                  0\n",
       "Teenhome                 0\n",
       "Recency                  0\n",
       "NumWebVisitsMonth       10\n",
       "Customer_Days            0\n",
       "Complain                 0\n",
       "MntTotal                 0\n",
       "MntRegularProds          0\n",
       "MntWines                 0\n",
       "MntFruits                0\n",
       "MntMeatProducts          1\n",
       "MntFishProducts          0\n",
       "MntSweetProducts         0\n",
       "MntGoldProds             0\n",
       "NumDealsPurchases        0\n",
       "NumWebPurchases          0\n",
       "NumCatalogPurchases      0\n",
       "NumStorePurchases        0\n",
       "AcceptedCmp1             0\n",
       "AcceptedCmp2             0\n",
       "AcceptedCmp3             0\n",
       "AcceptedCmp4             0\n",
       "AcceptedCmp5             0\n",
       "AcceptedCmpOverall       0\n",
       "Response                 0\n",
       "Z_CostContact            0\n",
       "Z_Revenue                0\n",
       "dtype: int64"
      ]
     },
     "execution_count": 63,
     "metadata": {},
     "output_type": "execute_result"
    }
   ],
   "source": [
    "#check for missing values\n",
    "df.isna().sum()"
   ]
  },
  {
   "cell_type": "code",
   "execution_count": 64,
   "metadata": {},
   "outputs": [],
   "source": [
    "#drop the missing values in Income and MntMeatProducts columns\n",
    "df.dropna(subset = [\"Income\", \"MntMeatProducts\"], inplace = True)"
   ]
  },
  {
   "cell_type": "code",
   "execution_count": 65,
   "metadata": {
    "scrolled": true
   },
   "outputs": [
    {
     "data": {
      "text/plain": [
       "Age                      0\n",
       "education_2n Cycle       0\n",
       "education_Basic          0\n",
       "education_Graduation     0\n",
       "education_Master         0\n",
       "education_PhD            0\n",
       "Income                   0\n",
       "marital_Single           0\n",
       "marital_Married          0\n",
       "marital_Together         0\n",
       "marital_Divorced         0\n",
       "marital_Widow            0\n",
       "Kidhome                  0\n",
       "Teenhome                 0\n",
       "Recency                  0\n",
       "NumWebVisitsMonth       10\n",
       "Customer_Days            0\n",
       "Complain                 0\n",
       "MntTotal                 0\n",
       "MntRegularProds          0\n",
       "MntWines                 0\n",
       "MntFruits                0\n",
       "MntMeatProducts          0\n",
       "MntFishProducts          0\n",
       "MntSweetProducts         0\n",
       "MntGoldProds             0\n",
       "NumDealsPurchases        0\n",
       "NumWebPurchases          0\n",
       "NumCatalogPurchases      0\n",
       "NumStorePurchases        0\n",
       "AcceptedCmp1             0\n",
       "AcceptedCmp2             0\n",
       "AcceptedCmp3             0\n",
       "AcceptedCmp4             0\n",
       "AcceptedCmp5             0\n",
       "AcceptedCmpOverall       0\n",
       "Response                 0\n",
       "Z_CostContact            0\n",
       "Z_Revenue                0\n",
       "dtype: int64"
      ]
     },
     "execution_count": 65,
     "metadata": {},
     "output_type": "execute_result"
    }
   ],
   "source": [
    "df.isna().sum()"
   ]
  },
  {
   "cell_type": "code",
   "execution_count": 66,
   "metadata": {},
   "outputs": [],
   "source": [
    "#fill the missing values in NumWebVisitsMonth column with mean\n",
    "df[\"NumWebVisitsMonth\"].fillna(df[\"NumWebVisitsMonth\"].mean(), inplace = True)"
   ]
  },
  {
   "cell_type": "code",
   "execution_count": 67,
   "metadata": {},
   "outputs": [
    {
     "data": {
      "text/plain": [
       "Age                     0\n",
       "education_2n Cycle      0\n",
       "education_Basic         0\n",
       "education_Graduation    0\n",
       "education_Master        0\n",
       "education_PhD           0\n",
       "Income                  0\n",
       "marital_Single          0\n",
       "marital_Married         0\n",
       "marital_Together        0\n",
       "marital_Divorced        0\n",
       "marital_Widow           0\n",
       "Kidhome                 0\n",
       "Teenhome                0\n",
       "Recency                 0\n",
       "NumWebVisitsMonth       0\n",
       "Customer_Days           0\n",
       "Complain                0\n",
       "MntTotal                0\n",
       "MntRegularProds         0\n",
       "MntWines                0\n",
       "MntFruits               0\n",
       "MntMeatProducts         0\n",
       "MntFishProducts         0\n",
       "MntSweetProducts        0\n",
       "MntGoldProds            0\n",
       "NumDealsPurchases       0\n",
       "NumWebPurchases         0\n",
       "NumCatalogPurchases     0\n",
       "NumStorePurchases       0\n",
       "AcceptedCmp1            0\n",
       "AcceptedCmp2            0\n",
       "AcceptedCmp3            0\n",
       "AcceptedCmp4            0\n",
       "AcceptedCmp5            0\n",
       "AcceptedCmpOverall      0\n",
       "Response                0\n",
       "Z_CostContact           0\n",
       "Z_Revenue               0\n",
       "dtype: int64"
      ]
     },
     "execution_count": 67,
     "metadata": {},
     "output_type": "execute_result"
    }
   ],
   "source": [
    "df.isna().sum()"
   ]
  },
  {
   "cell_type": "code",
   "execution_count": 68,
   "metadata": {
    "execution": {
     "iopub.execute_input": "2024-01-06T20:57:54.163838Z",
     "iopub.status.busy": "2024-01-06T20:57:54.163291Z",
     "iopub.status.idle": "2024-01-06T20:57:54.187913Z",
     "shell.execute_reply": "2024-01-06T20:57:54.186385Z",
     "shell.execute_reply.started": "2024-01-06T20:57:54.163792Z"
    }
   },
   "outputs": [
    {
     "data": {
      "text/plain": [
       "180"
      ]
     },
     "execution_count": 68,
     "metadata": {},
     "output_type": "execute_result"
    }
   ],
   "source": [
    "#check for outliers\n",
    "df.duplicated().sum()"
   ]
  },
  {
   "cell_type": "code",
   "execution_count": 69,
   "metadata": {
    "execution": {
     "iopub.execute_input": "2023-10-03T20:35:08.652508Z",
     "iopub.status.busy": "2023-10-03T20:35:08.651818Z",
     "iopub.status.idle": "2023-10-03T20:35:08.660186Z",
     "shell.execute_reply": "2023-10-03T20:35:08.659658Z",
     "shell.execute_reply.started": "2023-10-03T20:35:08.652482Z"
    }
   },
   "outputs": [
    {
     "name": "stdout",
     "output_type": "stream",
     "text": [
      "(2023, 39)\n"
     ]
    }
   ],
   "source": [
    "df=df.drop_duplicates()\n",
    "print(df.shape)"
   ]
  },
  {
   "cell_type": "code",
   "execution_count": 70,
   "metadata": {
    "execution": {
     "iopub.execute_input": "2024-01-06T21:12:40.531616Z",
     "iopub.status.busy": "2024-01-06T21:12:40.531073Z",
     "iopub.status.idle": "2024-01-06T21:12:40.540428Z",
     "shell.execute_reply": "2024-01-06T21:12:40.539539Z",
     "shell.execute_reply.started": "2024-01-06T21:12:40.531576Z"
    }
   },
   "outputs": [
    {
     "name": "stdout",
     "output_type": "stream",
     "text": [
      "(2023, 37)\n"
     ]
    }
   ],
   "source": [
    "#drop columns Z_CostContact and Z_Revenue     \n",
    "df = df.drop(['Z_CostContact', 'Z_Revenue'], axis=1)\n",
    "print(df.shape)"
   ]
  },
  {
   "cell_type": "code",
   "execution_count": 71,
   "metadata": {
    "execution": {
     "iopub.execute_input": "2024-01-06T21:14:00.216372Z",
     "iopub.status.busy": "2024-01-06T21:14:00.215854Z",
     "iopub.status.idle": "2024-01-06T21:14:00.238964Z",
     "shell.execute_reply": "2024-01-06T21:14:00.237440Z",
     "shell.execute_reply.started": "2024-01-06T21:14:00.216335Z"
    }
   },
   "outputs": [
    {
     "data": {
      "text/html": [
       "<div>\n",
       "<style scoped>\n",
       "    .dataframe tbody tr th:only-of-type {\n",
       "        vertical-align: middle;\n",
       "    }\n",
       "\n",
       "    .dataframe tbody tr th {\n",
       "        vertical-align: top;\n",
       "    }\n",
       "\n",
       "    .dataframe thead th {\n",
       "        text-align: right;\n",
       "    }\n",
       "</style>\n",
       "<table border=\"1\" class=\"dataframe\">\n",
       "  <thead>\n",
       "    <tr style=\"text-align: right;\">\n",
       "      <th></th>\n",
       "      <th>Age</th>\n",
       "      <th>education_2n Cycle</th>\n",
       "      <th>education_Basic</th>\n",
       "      <th>education_Graduation</th>\n",
       "      <th>education_Master</th>\n",
       "      <th>education_PhD</th>\n",
       "      <th>Income</th>\n",
       "      <th>marital_Single</th>\n",
       "      <th>marital_Married</th>\n",
       "      <th>marital_Together</th>\n",
       "      <th>...</th>\n",
       "      <th>NumWebPurchases</th>\n",
       "      <th>NumCatalogPurchases</th>\n",
       "      <th>NumStorePurchases</th>\n",
       "      <th>AcceptedCmp1</th>\n",
       "      <th>AcceptedCmp2</th>\n",
       "      <th>AcceptedCmp3</th>\n",
       "      <th>AcceptedCmp4</th>\n",
       "      <th>AcceptedCmp5</th>\n",
       "      <th>AcceptedCmpOverall</th>\n",
       "      <th>Response</th>\n",
       "    </tr>\n",
       "  </thead>\n",
       "  <tbody>\n",
       "    <tr>\n",
       "      <th>1307</th>\n",
       "      <td>38</td>\n",
       "      <td>0</td>\n",
       "      <td>0</td>\n",
       "      <td>0</td>\n",
       "      <td>1</td>\n",
       "      <td>0</td>\n",
       "      <td>6560.0</td>\n",
       "      <td>1</td>\n",
       "      <td>0</td>\n",
       "      <td>0</td>\n",
       "      <td>...</td>\n",
       "      <td>1</td>\n",
       "      <td>0</td>\n",
       "      <td>1</td>\n",
       "      <td>0</td>\n",
       "      <td>0</td>\n",
       "      <td>0</td>\n",
       "      <td>0</td>\n",
       "      <td>0</td>\n",
       "      <td>0</td>\n",
       "      <td>0</td>\n",
       "    </tr>\n",
       "    <tr>\n",
       "      <th>1780</th>\n",
       "      <td>54</td>\n",
       "      <td>0</td>\n",
       "      <td>0</td>\n",
       "      <td>0</td>\n",
       "      <td>0</td>\n",
       "      <td>1</td>\n",
       "      <td>7144.0</td>\n",
       "      <td>1</td>\n",
       "      <td>0</td>\n",
       "      <td>0</td>\n",
       "      <td>...</td>\n",
       "      <td>23</td>\n",
       "      <td>1</td>\n",
       "      <td>1</td>\n",
       "      <td>0</td>\n",
       "      <td>0</td>\n",
       "      <td>0</td>\n",
       "      <td>0</td>\n",
       "      <td>0</td>\n",
       "      <td>0</td>\n",
       "      <td>0</td>\n",
       "    </tr>\n",
       "    <tr>\n",
       "      <th>1949</th>\n",
       "      <td>51</td>\n",
       "      <td>0</td>\n",
       "      <td>0</td>\n",
       "      <td>1</td>\n",
       "      <td>0</td>\n",
       "      <td>0</td>\n",
       "      <td>4428.0</td>\n",
       "      <td>0</td>\n",
       "      <td>1</td>\n",
       "      <td>0</td>\n",
       "      <td>...</td>\n",
       "      <td>25</td>\n",
       "      <td>0</td>\n",
       "      <td>0</td>\n",
       "      <td>0</td>\n",
       "      <td>0</td>\n",
       "      <td>0</td>\n",
       "      <td>0</td>\n",
       "      <td>0</td>\n",
       "      <td>0</td>\n",
       "      <td>0</td>\n",
       "    </tr>\n",
       "  </tbody>\n",
       "</table>\n",
       "<p>3 rows × 37 columns</p>\n",
       "</div>"
      ],
      "text/plain": [
       "      Age  education_2n Cycle  education_Basic  education_Graduation  \\\n",
       "1307   38                   0                0                     0   \n",
       "1780   54                   0                0                     0   \n",
       "1949   51                   0                0                     1   \n",
       "\n",
       "      education_Master  education_PhD  Income  marital_Single  \\\n",
       "1307                 1              0  6560.0               1   \n",
       "1780                 0              1  7144.0               1   \n",
       "1949                 0              0  4428.0               0   \n",
       "\n",
       "      marital_Married  marital_Together  ...  NumWebPurchases  \\\n",
       "1307                0                 0  ...                1   \n",
       "1780                0                 0  ...               23   \n",
       "1949                1                 0  ...               25   \n",
       "\n",
       "      NumCatalogPurchases  NumStorePurchases  AcceptedCmp1  AcceptedCmp2  \\\n",
       "1307                    0                  1             0             0   \n",
       "1780                    1                  1             0             0   \n",
       "1949                    0                  0             0             0   \n",
       "\n",
       "      AcceptedCmp3  AcceptedCmp4  AcceptedCmp5  AcceptedCmpOverall  Response  \n",
       "1307             0             0             0                   0         0  \n",
       "1780             0             0             0                   0         0  \n",
       "1949             0             0             0                   0         0  \n",
       "\n",
       "[3 rows x 37 columns]"
      ]
     },
     "execution_count": 71,
     "metadata": {},
     "output_type": "execute_result"
    }
   ],
   "source": [
    "#There were negative amounts of purchase\n",
    "df[df['MntRegularProds'] < 0 ].head()"
   ]
  },
  {
   "cell_type": "code",
   "execution_count": 82,
   "metadata": {},
   "outputs": [
    {
     "name": "stdout",
     "output_type": "stream",
     "text": [
      "Median: 51390.0\n"
     ]
    },
    {
     "data": {
      "image/png": "[encoded data removed]",
      "text/plain": [
       "<Figure size 500x300 with 1 Axes>"
      ]
     },
     "metadata": {},
     "output_type": "display_data"
    }
   ],
   "source": [
    "#The Income column histogram\n",
    "plt.figure(figsize=(5,3))\n",
    "sns.histplot(x=df['Income'])\n",
    "median = df['Income'].median()\n",
    "plt.axvline(median, color='red', linestyle='--')\n",
    "print('Median: {}'.format(median))"
   ]
  },
  {
   "cell_type": "code",
   "execution_count": 83,
   "metadata": {},
   "outputs": [
    {
     "name": "stdout",
     "output_type": "stream",
     "text": [
      "Median: 343.0\n"
     ]
    },
    {
     "data": {
      "image/png": "[encoded data removed]",
      "text/plain": [
       "<Figure size 500x300 with 1 Axes>"
      ]
     },
     "metadata": {},
     "output_type": "display_data"
    }
   ],
   "source": [
    "#The Total Spent columns histogram\n",
    "plt.figure(figsize=(5,3))\n",
    "sns.histplot(x=df['MntTotal'], bins=range(0,2600,100))\n",
    "median = df['MntTotal'].median()\n",
    "plt.axvline(median, color='red', linestyle='--')\n",
    "print('Median: {}'.format(median))"
   ]
  },
  {
   "cell_type": "markdown",
   "metadata": {},
   "source": [
    "## **Feature Engineering**"
   ]
  },
  {
   "cell_type": "code",
   "execution_count": 72,
   "metadata": {
    "execution": {
     "iopub.execute_input": "2023-10-03T20:35:08.756967Z",
     "iopub.status.busy": "2023-10-03T20:35:08.756468Z",
     "iopub.status.idle": "2023-10-03T20:35:08.768839Z",
     "shell.execute_reply": "2023-10-03T20:35:08.76791Z",
     "shell.execute_reply.started": "2023-10-03T20:35:08.756942Z"
    }
   },
   "outputs": [
    {
     "data": {
      "text/plain": [
       "count    2023.000000\n",
       "mean       12.568463\n",
       "std         7.164531\n",
       "min         0.000000\n",
       "25%         6.000000\n",
       "50%        12.000000\n",
       "75%        18.000000\n",
       "max        32.000000\n",
       "Name: NumPurchases, dtype: float64"
      ]
     },
     "execution_count": 72,
     "metadata": {},
     "output_type": "execute_result"
    }
   ],
   "source": [
    "#Total number of purchases\n",
    "df['NumPurchases'] = df['NumWebPurchases'] + df['NumCatalogPurchases'] + df['NumStorePurchases']\n",
    "df['NumPurchases'].describe()"
   ]
  },
  {
   "cell_type": "code",
   "execution_count": 73,
   "metadata": {
    "execution": {
     "iopub.execute_input": "2023-10-03T20:35:08.962968Z",
     "iopub.status.busy": "2023-10-03T20:35:08.962763Z",
     "iopub.status.idle": "2023-10-03T20:35:08.973053Z",
     "shell.execute_reply": "2023-10-03T20:35:08.972146Z",
     "shell.execute_reply.started": "2023-10-03T20:35:08.962951Z"
    }
   },
   "outputs": [],
   "source": [
    "#The Average amount per purchase\n",
    "df['AvgMntPerPurchase'] = df['MntTotal']/df['NumPurchases']"
   ]
  },
  {
   "cell_type": "code",
   "execution_count": 74,
   "metadata": {},
   "outputs": [
    {
     "data": {
      "text/plain": [
       "count    2023.000000\n",
       "mean       34.292679\n",
       "std        29.202407\n",
       "min         0.000000\n",
       "25%        10.250000\n",
       "50%        26.384615\n",
       "75%        45.597436\n",
       "max       176.000000\n",
       "Name: AvgMntPerPurchase, dtype: float64"
      ]
     },
     "execution_count": 74,
     "metadata": {},
     "output_type": "execute_result"
    }
   ],
   "source": [
    "df.loc[df['AvgMntPerPurchase']==np.inf, 'AvgMntPerPurchase'] = 0\n",
    "df['AvgMntPerPurchase'].describe()"
   ]
  },
  {
   "cell_type": "code",
   "execution_count": 75,
   "metadata": {
    "execution": {
     "iopub.execute_input": "2023-10-03T20:35:09.319468Z",
     "iopub.status.busy": "2023-10-03T20:35:09.318609Z",
     "iopub.status.idle": "2023-10-03T20:35:09.330188Z",
     "shell.execute_reply": "2023-10-03T20:35:09.329096Z",
     "shell.execute_reply.started": "2023-10-03T20:35:09.319443Z"
    }
   },
   "outputs": [],
   "source": [
    "#The Average amount per regular purchase\n",
    "df['AvgRegMntPerPurchase'] = df['MntRegularProds']/df['NumPurchases']"
   ]
  },
  {
   "cell_type": "code",
   "execution_count": 76,
   "metadata": {},
   "outputs": [
    {
     "data": {
      "text/plain": [
       "count    2023.000000\n",
       "mean       31.048142\n",
       "std        28.663689\n",
       "min       -75.500000\n",
       "25%         8.000000\n",
       "50%        22.846154\n",
       "75%        42.415242\n",
       "max       174.000000\n",
       "Name: AvgRegMntPerPurchase, dtype: float64"
      ]
     },
     "execution_count": 76,
     "metadata": {},
     "output_type": "execute_result"
    }
   ],
   "source": [
    "df.loc[df['AvgRegMntPerPurchase']==np.inf, 'AvgRegMntPerPurchase'] = 0\n",
    "df['AvgRegMntPerPurchase'].describe()"
   ]
  },
  {
   "cell_type": "code",
   "execution_count": 77,
   "metadata": {
    "execution": {
     "iopub.execute_input": "2023-10-03T20:35:09.557237Z",
     "iopub.status.busy": "2023-10-03T20:35:09.556981Z",
     "iopub.status.idle": "2023-10-03T20:35:09.569196Z",
     "shell.execute_reply": "2023-10-03T20:35:09.56823Z",
     "shell.execute_reply.started": "2023-10-03T20:35:09.557217Z"
    }
   },
   "outputs": [],
   "source": [
    "#The influence of deals on number of purchases\n",
    "df['DealPerPurchase'] = df['NumDealsPurchases']/df['NumPurchases']\n",
    "df.loc[df['DealPerPurchase']==np.inf, 'DealPerPurchase'] = 1\n",
    "df.loc[df['DealPerPurchase'].isna(), 'DealPerPurchase'] = 1"
   ]
  },
  {
   "cell_type": "code",
   "execution_count": 78,
   "metadata": {},
   "outputs": [
    {
     "data": {
      "text/plain": [
       "count    2023.000000\n",
       "mean        0.250292\n",
       "std         0.371736\n",
       "min         0.000000\n",
       "25%         0.083333\n",
       "50%         0.200000\n",
       "75%         0.333333\n",
       "max        15.000000\n",
       "Name: DealPerPurchase, dtype: float64"
      ]
     },
     "execution_count": 78,
     "metadata": {},
     "output_type": "execute_result"
    }
   ],
   "source": [
    "df['DealPerPurchase'].describe()"
   ]
  },
  {
   "cell_type": "code",
   "execution_count": 79,
   "metadata": {
    "execution": {
     "iopub.execute_input": "2023-10-03T20:35:09.574662Z",
     "iopub.status.busy": "2023-10-03T20:35:09.574412Z",
     "iopub.status.idle": "2023-10-03T20:35:09.58946Z",
     "shell.execute_reply": "2023-10-03T20:35:09.588859Z",
     "shell.execute_reply.started": "2023-10-03T20:35:09.574643Z"
    }
   },
   "outputs": [
    {
     "data": {
      "text/html": [
       "<div>\n",
       "<style scoped>\n",
       "    .dataframe tbody tr th:only-of-type {\n",
       "        vertical-align: middle;\n",
       "    }\n",
       "\n",
       "    .dataframe tbody tr th {\n",
       "        vertical-align: top;\n",
       "    }\n",
       "\n",
       "    .dataframe thead th {\n",
       "        text-align: right;\n",
       "    }\n",
       "</style>\n",
       "<table border=\"1\" class=\"dataframe\">\n",
       "  <thead>\n",
       "    <tr style=\"text-align: right;\">\n",
       "      <th></th>\n",
       "      <th>Age</th>\n",
       "      <th>education_2n Cycle</th>\n",
       "      <th>education_Basic</th>\n",
       "      <th>education_Graduation</th>\n",
       "      <th>education_Master</th>\n",
       "      <th>education_PhD</th>\n",
       "      <th>Income</th>\n",
       "      <th>marital_Single</th>\n",
       "      <th>marital_Married</th>\n",
       "      <th>marital_Together</th>\n",
       "      <th>...</th>\n",
       "      <th>AcceptedCmp2</th>\n",
       "      <th>AcceptedCmp3</th>\n",
       "      <th>AcceptedCmp4</th>\n",
       "      <th>AcceptedCmp5</th>\n",
       "      <th>AcceptedCmpOverall</th>\n",
       "      <th>Response</th>\n",
       "      <th>NumPurchases</th>\n",
       "      <th>AvgMntPerPurchase</th>\n",
       "      <th>AvgRegMntPerPurchase</th>\n",
       "      <th>DealPerPurchase</th>\n",
       "    </tr>\n",
       "  </thead>\n",
       "  <tbody>\n",
       "    <tr>\n",
       "      <th>1022</th>\n",
       "      <td>29</td>\n",
       "      <td>0</td>\n",
       "      <td>0</td>\n",
       "      <td>1</td>\n",
       "      <td>0</td>\n",
       "      <td>0</td>\n",
       "      <td>8028.0</td>\n",
       "      <td>1</td>\n",
       "      <td>0</td>\n",
       "      <td>0</td>\n",
       "      <td>...</td>\n",
       "      <td>0</td>\n",
       "      <td>0</td>\n",
       "      <td>0</td>\n",
       "      <td>0</td>\n",
       "      <td>0</td>\n",
       "      <td>0</td>\n",
       "      <td>1</td>\n",
       "      <td>176.0</td>\n",
       "      <td>174.0</td>\n",
       "      <td>15.0</td>\n",
       "    </tr>\n",
       "  </tbody>\n",
       "</table>\n",
       "<p>1 rows × 41 columns</p>\n",
       "</div>"
      ],
      "text/plain": [
       "      Age  education_2n Cycle  education_Basic  education_Graduation  \\\n",
       "1022   29                   0                0                     1   \n",
       "\n",
       "      education_Master  education_PhD  Income  marital_Single  \\\n",
       "1022                 0              0  8028.0               1   \n",
       "\n",
       "      marital_Married  marital_Together  ...  AcceptedCmp2  AcceptedCmp3  \\\n",
       "1022                0                 0  ...             0             0   \n",
       "\n",
       "      AcceptedCmp4  AcceptedCmp5  AcceptedCmpOverall  Response  NumPurchases  \\\n",
       "1022             0             0                   0         0             1   \n",
       "\n",
       "      AvgMntPerPurchase  AvgRegMntPerPurchase  DealPerPurchase  \n",
       "1022              176.0                 174.0             15.0  \n",
       "\n",
       "[1 rows x 41 columns]"
      ]
     },
     "execution_count": 79,
     "metadata": {},
     "output_type": "execute_result"
    }
   ],
   "source": [
    "df[df['DealPerPurchase'] > 1].head()"
   ]
  },
  {
   "cell_type": "code",
   "execution_count": 81,
   "metadata": {
    "_kg_hide-input": true,
    "execution": {
     "iopub.execute_input": "2023-10-03T20:35:09.609801Z",
     "iopub.status.busy": "2023-10-03T20:35:09.609451Z",
     "iopub.status.idle": "2023-10-03T20:35:09.804173Z",
     "shell.execute_reply": "2023-10-03T20:35:09.803184Z",
     "shell.execute_reply.started": "2023-10-03T20:35:09.609776Z"
    }
   },
   "outputs": [
    {
     "name": "stdout",
     "output_type": "stream",
     "text": [
      "Median: 0.2\n"
     ]
    },
    {
     "data": {
      "image/png": "[encoded data removed]",
      "text/plain": [
       "<Figure size 600x300 with 1 Axes>"
      ]
     },
     "metadata": {},
     "output_type": "display_data"
    }
   ],
   "source": [
    "plt.figure(figsize=(6,3))\n",
    "sns.histplot(x=df['DealPerPurchase'], bins=20)\n",
    "median = df['DealPerPurchase'].median()\n",
    "plt.axvline(median, color='red', linestyle='--')\n",
    "print('Median: {}'.format(median))"
   ]
  },
  {
   "cell_type": "code",
   "execution_count": 88,
   "metadata": {
    "execution": {
     "iopub.execute_input": "2023-10-03T20:35:14.469927Z",
     "iopub.status.busy": "2023-10-03T20:35:14.469568Z",
     "iopub.status.idle": "2023-10-03T20:35:14.475325Z",
     "shell.execute_reply": "2023-10-03T20:35:14.474641Z",
     "shell.execute_reply.started": "2023-10-03T20:35:14.469898Z"
    }
   },
   "outputs": [],
   "source": [
    "#Drop col added that didn't seem promising\n",
    "df = df.drop(['NumPurchases', 'AvgRegMntPerPurchase'], axis=1)"
   ]
  },
  {
   "cell_type": "code",
   "execution_count": 89,
   "metadata": {},
   "outputs": [
    {
     "data": {
      "text/plain": [
       "(2023, 39)"
      ]
     },
     "execution_count": 89,
     "metadata": {},
     "output_type": "execute_result"
    }
   ],
   "source": [
    "df.shape"
   ]
  },
  {
   "cell_type": "code",
   "execution_count": 90,
   "metadata": {
    "execution": {
     "iopub.execute_input": "2023-10-03T20:35:15.558528Z",
     "iopub.status.busy": "2023-10-03T20:35:15.55821Z",
     "iopub.status.idle": "2023-10-03T20:35:15.564159Z",
     "shell.execute_reply": "2023-10-03T20:35:15.56257Z",
     "shell.execute_reply.started": "2023-10-03T20:35:15.55851Z"
    }
   },
   "outputs": [],
   "source": [
    "y = df['Response']\n",
    "#features to use in model\n",
    "X = df.drop('Response', axis=1)"
   ]
  },
  {
   "cell_type": "code",
   "execution_count": 91,
   "metadata": {
    "execution": {
     "iopub.execute_input": "2023-10-03T20:35:15.565751Z",
     "iopub.status.busy": "2023-10-03T20:35:15.565424Z",
     "iopub.status.idle": "2023-10-03T20:35:15.579358Z",
     "shell.execute_reply": "2023-10-03T20:35:15.578767Z",
     "shell.execute_reply.started": "2023-10-03T20:35:15.565725Z"
    }
   },
   "outputs": [],
   "source": [
    "#Split the data into training set and testing set. Stratify to account for imbalance\n",
    "X_train, X_test, y_train, y_test = train_test_split(X, y, test_size=0.25, \n",
    "                                                    stratify=y, random_state=42)"
   ]
  },
  {
   "cell_type": "markdown",
   "metadata": {},
   "source": [
    "##  **1- Decision Tree Model**"
   ]
  },
  {
   "cell_type": "code",
   "execution_count": 126,
   "metadata": {
    "execution": {
     "iopub.execute_input": "2023-10-03T20:35:15.580662Z",
     "iopub.status.busy": "2023-10-03T20:35:15.580061Z",
     "iopub.status.idle": "2023-10-03T20:35:15.591001Z",
     "shell.execute_reply": "2023-10-03T20:35:15.589961Z",
     "shell.execute_reply.started": "2023-10-03T20:35:15.580643Z"
    }
   },
   "outputs": [],
   "source": [
    "decision_tree_model = DecisionTreeClassifier(random_state=0)\n",
    "decision_tree_model = decision_tree_model.fit(X_train, y_train)"
   ]
  },
  {
   "cell_type": "code",
   "execution_count": 127,
   "metadata": {},
   "outputs": [],
   "source": [
    "y_pred = decision_tree_model.predict(X_test)"
   ]
  },
  {
   "cell_type": "code",
   "execution_count": 115,
   "metadata": {},
   "outputs": [
    {
     "name": "stdout",
     "output_type": "stream",
     "text": [
      "              precision    recall  f1-score   support\n",
      "\n",
      "           0       0.91      0.90      0.91       428\n",
      "           1       0.48      0.49      0.48        78\n",
      "\n",
      "    accuracy                           0.84       506\n",
      "   macro avg       0.69      0.70      0.69       506\n",
      "weighted avg       0.84      0.84      0.84       506\n",
      "\n"
     ]
    }
   ],
   "source": [
    "print(classification_report(y_test, y_pred))"
   ]
  },
  {
   "cell_type": "code",
   "execution_count": 116,
   "metadata": {},
   "outputs": [],
   "source": [
    "y_pred_train = decision_tree_model.predict(X_train)"
   ]
  },
  {
   "cell_type": "code",
   "execution_count": 117,
   "metadata": {},
   "outputs": [
    {
     "name": "stdout",
     "output_type": "stream",
     "text": [
      "              precision    recall  f1-score   support\n",
      "\n",
      "           0       0.99      1.00      1.00      1283\n",
      "           1       1.00      0.96      0.98       234\n",
      "\n",
      "    accuracy                           0.99      1517\n",
      "   macro avg       1.00      0.98      0.99      1517\n",
      "weighted avg       0.99      0.99      0.99      1517\n",
      "\n"
     ]
    }
   ],
   "source": [
    "print(classification_report(y_train, y_pred_train))"
   ]
  },
  {
   "cell_type": "code",
   "execution_count": 120,
   "metadata": {},
   "outputs": [
    {
     "data": {
      "image/png": "[encoded data removed]",
      "text/plain": [
       "<Figure size 640x480 with 2 Axes>"
      ]
     },
     "metadata": {},
     "output_type": "display_data"
    }
   ],
   "source": [
    "decision_tree_cm = confusion_matrix(y_test, y_pred, \n",
    "                                    labels=decision_tree_model.classes_)\n",
    "#display confusion matrix\n",
    "tree_display = ConfusionMatrixDisplay(confusion_matrix=decision_tree_cm, \n",
    "                                  display_labels=decision_tree_model.classes_)\n",
    "#Plot the confusion matrix\n",
    "tree_display.plot(values_format='')\n",
    "plt.show()"
   ]
  },
  {
   "cell_type": "code",
   "execution_count": 129,
   "metadata": {},
   "outputs": [
    {
     "data": {
      "text/plain": [
       "[Text(0.6067756028693528, 0.9722222222222222, 'x[35] <= 0.5\\ngini = 0.261\\nsamples = 1517\\nvalue = [1283, 234]'),\n",
       " Text(0.3804213726088726, 0.9166666666666666, 'x[16] <= 2747.5\\ngini = 0.157\\nsamples = 1208\\nvalue = [1104, 104]'),\n",
       " Text(0.23886472323972324, 0.8611111111111112, 'x[14] <= 15.5\\ngini = 0.106\\nsamples = 1016\\nvalue = [959, 57]'),\n",
       " Text(0.1514041514041514, 0.8055555555555556, 'x[36] <= 69.389\\ngini = 0.314\\nsamples = 169\\nvalue = [136, 33]'),\n",
       " Text(0.11396011396011396, 0.75, 'x[37] <= 0.388\\ngini = 0.274\\nsamples = 159\\nvalue = [133, 26]'),\n",
       " Text(0.0814000814000814, 0.6944444444444444, 'x[15] <= 8.5\\ngini = 0.155\\nsamples = 118\\nvalue = [108, 10]'),\n",
       " Text(0.06837606837606838, 0.6388888888888888, 'x[22] <= 728.5\\ngini = 0.129\\nsamples = 115\\nvalue = [107, 8]'),\n",
       " Text(0.06186406186406186, 0.5833333333333334, 'x[24] <= 29.0\\ngini = 0.115\\nsamples = 114\\nvalue = [107, 7]'),\n",
       " Text(0.03256003256003256, 0.5277777777777778, 'x[0] <= 38.5\\ngini = 0.064\\nsamples = 90\\nvalue = [87, 3]'),\n",
       " Text(0.019536019536019536, 0.4722222222222222, 'x[0] <= 37.5\\ngini = 0.219\\nsamples = 16\\nvalue = [14, 2]'),\n",
       " Text(0.013024013024013023, 0.4166666666666667, 'x[29] <= 2.5\\ngini = 0.124\\nsamples = 15\\nvalue = [14, 1]'),\n",
       " Text(0.006512006512006512, 0.3611111111111111, 'gini = 0.0\\nsamples = 1\\nvalue = [0, 1]'),\n",
       " Text(0.019536019536019536, 0.3611111111111111, 'gini = 0.0\\nsamples = 14\\nvalue = [14, 0]'),\n",
       " Text(0.026048026048026047, 0.4166666666666667, 'gini = 0.0\\nsamples = 1\\nvalue = [0, 1]'),\n",
       " Text(0.045584045584045586, 0.4722222222222222, 'x[4] <= 0.5\\ngini = 0.027\\nsamples = 74\\nvalue = [73, 1]'),\n",
       " Text(0.03907203907203907, 0.4166666666666667, 'gini = 0.0\\nsamples = 59\\nvalue = [59, 0]'),\n",
       " Text(0.052096052096052094, 0.4166666666666667, 'x[24] <= 8.0\\ngini = 0.124\\nsamples = 15\\nvalue = [14, 1]'),\n",
       " Text(0.045584045584045586, 0.3611111111111111, 'gini = 0.0\\nsamples = 11\\nvalue = [11, 0]'),\n",
       " Text(0.05860805860805861, 0.3611111111111111, 'x[15] <= 6.0\\ngini = 0.375\\nsamples = 4\\nvalue = [3, 1]'),\n",
       " Text(0.052096052096052094, 0.3055555555555556, 'gini = 0.0\\nsamples = 3\\nvalue = [3, 0]'),\n",
       " Text(0.06512006512006512, 0.3055555555555556, 'gini = 0.0\\nsamples = 1\\nvalue = [0, 1]'),\n",
       " Text(0.09116809116809117, 0.5277777777777778, 'x[12] <= 0.5\\ngini = 0.278\\nsamples = 24\\nvalue = [20, 4]'),\n",
       " Text(0.08465608465608465, 0.4722222222222222, 'x[0] <= 63.0\\ngini = 0.227\\nsamples = 23\\nvalue = [20, 3]'),\n",
       " Text(0.07814407814407814, 0.4166666666666667, 'gini = 0.0\\nsamples = 13\\nvalue = [13, 0]'),\n",
       " Text(0.09116809116809117, 0.4166666666666667, 'x[14] <= 8.5\\ngini = 0.42\\nsamples = 10\\nvalue = [7, 3]'),\n",
       " Text(0.08465608465608465, 0.3611111111111111, 'x[16] <= 2368.5\\ngini = 0.48\\nsamples = 5\\nvalue = [2, 3]'),\n",
       " Text(0.07814407814407814, 0.3055555555555556, 'gini = 0.0\\nsamples = 2\\nvalue = [2, 0]'),\n",
       " Text(0.09116809116809117, 0.3055555555555556, 'gini = 0.0\\nsamples = 3\\nvalue = [0, 3]'),\n",
       " Text(0.09768009768009768, 0.3611111111111111, 'gini = 0.0\\nsamples = 5\\nvalue = [5, 0]'),\n",
       " Text(0.09768009768009768, 0.4722222222222222, 'gini = 0.0\\nsamples = 1\\nvalue = [0, 1]'),\n",
       " Text(0.07488807488807489, 0.5833333333333334, 'gini = 0.0\\nsamples = 1\\nvalue = [0, 1]'),\n",
       " Text(0.09442409442409443, 0.6388888888888888, 'x[15] <= 11.0\\ngini = 0.444\\nsamples = 3\\nvalue = [1, 2]'),\n",
       " Text(0.08791208791208792, 0.5833333333333334, 'gini = 0.0\\nsamples = 2\\nvalue = [0, 2]'),\n",
       " Text(0.10093610093610093, 0.5833333333333334, 'gini = 0.0\\nsamples = 1\\nvalue = [1, 0]'),\n",
       " Text(0.14652014652014653, 0.6944444444444444, 'x[28] <= 0.5\\ngini = 0.476\\nsamples = 41\\nvalue = [25, 16]'),\n",
       " Text(0.13024013024013023, 0.6388888888888888, 'x[16] <= 2698.5\\ngini = 0.208\\nsamples = 17\\nvalue = [15, 2]'),\n",
       " Text(0.12372812372812372, 0.5833333333333334, 'x[6] <= 22693.0\\ngini = 0.117\\nsamples = 16\\nvalue = [15, 1]'),\n",
       " Text(0.11721611721611722, 0.5277777777777778, 'x[16] <= 2643.0\\ngini = 0.5\\nsamples = 2\\nvalue = [1, 1]'),\n",
       " Text(0.11070411070411071, 0.4722222222222222, 'gini = 0.0\\nsamples = 1\\nvalue = [0, 1]'),\n",
       " Text(0.12372812372812372, 0.4722222222222222, 'gini = 0.0\\nsamples = 1\\nvalue = [1, 0]'),\n",
       " Text(0.13024013024013023, 0.5277777777777778, 'gini = 0.0\\nsamples = 14\\nvalue = [14, 0]'),\n",
       " Text(0.13675213675213677, 0.5833333333333334, 'gini = 0.0\\nsamples = 1\\nvalue = [0, 1]'),\n",
       " Text(0.1628001628001628, 0.6388888888888888, 'x[37] <= 0.558\\ngini = 0.486\\nsamples = 24\\nvalue = [10, 14]'),\n",
       " Text(0.1562881562881563, 0.5833333333333334, 'x[6] <= 44936.5\\ngini = 0.444\\nsamples = 21\\nvalue = [7, 14]'),\n",
       " Text(0.14326414326414327, 0.5277777777777778, 'x[8] <= 0.5\\ngini = 0.18\\nsamples = 10\\nvalue = [1, 9]'),\n",
       " Text(0.13675213675213677, 0.4722222222222222, 'gini = 0.0\\nsamples = 9\\nvalue = [0, 9]'),\n",
       " Text(0.14977614977614978, 0.4722222222222222, 'gini = 0.0\\nsamples = 1\\nvalue = [1, 0]'),\n",
       " Text(0.1693121693121693, 0.5277777777777778, 'x[14] <= 9.0\\ngini = 0.496\\nsamples = 11\\nvalue = [6, 5]'),\n",
       " Text(0.1628001628001628, 0.4722222222222222, 'x[6] <= 53564.0\\ngini = 0.408\\nsamples = 7\\nvalue = [2, 5]'),\n",
       " Text(0.1562881562881563, 0.4166666666666667, 'gini = 0.0\\nsamples = 4\\nvalue = [0, 4]'),\n",
       " Text(0.1693121693121693, 0.4166666666666667, 'x[19] <= 156.5\\ngini = 0.444\\nsamples = 3\\nvalue = [2, 1]'),\n",
       " Text(0.1628001628001628, 0.3611111111111111, 'gini = 0.5\\nsamples = 2\\nvalue = [1, 1]'),\n",
       " Text(0.17582417582417584, 0.3611111111111111, 'gini = 0.0\\nsamples = 1\\nvalue = [1, 0]'),\n",
       " Text(0.17582417582417584, 0.4722222222222222, 'gini = 0.0\\nsamples = 4\\nvalue = [4, 0]'),\n",
       " Text(0.1693121693121693, 0.5833333333333334, 'gini = 0.0\\nsamples = 3\\nvalue = [3, 0]'),\n",
       " Text(0.18884818884818885, 0.75, 'x[28] <= 3.5\\ngini = 0.42\\nsamples = 10\\nvalue = [3, 7]'),\n",
       " Text(0.18233618233618235, 0.6944444444444444, 'gini = 0.0\\nsamples = 2\\nvalue = [2, 0]'),\n",
       " Text(0.19536019536019536, 0.6944444444444444, 'x[24] <= 14.5\\ngini = 0.219\\nsamples = 8\\nvalue = [1, 7]'),\n",
       " Text(0.18884818884818885, 0.6388888888888888, 'x[24] <= 4.5\\ngini = 0.5\\nsamples = 2\\nvalue = [1, 1]'),\n",
       " Text(0.18233618233618235, 0.5833333333333334, 'gini = 0.0\\nsamples = 1\\nvalue = [0, 1]'),\n",
       " Text(0.19536019536019536, 0.5833333333333334, 'gini = 0.0\\nsamples = 1\\nvalue = [1, 0]'),\n",
       " Text(0.20187220187220187, 0.6388888888888888, 'gini = 0.0\\nsamples = 6\\nvalue = [0, 6]'),\n",
       " Text(0.32632529507529506, 0.8055555555555556, 'x[22] <= 945.5\\ngini = 0.055\\nsamples = 847\\nvalue = [823, 24]'),\n",
       " Text(0.3011039886039886, 0.75, 'x[28] <= 10.5\\ngini = 0.051\\nsamples = 843\\nvalue = [821, 22]'),\n",
       " Text(0.2701973951973952, 0.6944444444444444, 'x[14] <= 20.5\\ngini = 0.047\\nsamples = 836\\nvalue = [816, 20]'),\n",
       " Text(0.22792022792022792, 0.6388888888888888, 'x[26] <= 3.5\\ngini = 0.18\\nsamples = 50\\nvalue = [45, 5]'),\n",
       " Text(0.20838420838420837, 0.5833333333333334, 'x[15] <= 7.5\\ngini = 0.089\\nsamples = 43\\nvalue = [41, 2]'),\n",
       " Text(0.20187220187220187, 0.5277777777777778, 'gini = 0.0\\nsamples = 36\\nvalue = [36, 0]'),\n",
       " Text(0.2148962148962149, 0.5277777777777778, 'x[0] <= 43.5\\ngini = 0.408\\nsamples = 7\\nvalue = [5, 2]'),\n",
       " Text(0.20838420838420837, 0.4722222222222222, 'gini = 0.0\\nsamples = 2\\nvalue = [0, 2]'),\n",
       " Text(0.22140822140822142, 0.4722222222222222, 'gini = 0.0\\nsamples = 5\\nvalue = [5, 0]'),\n",
       " Text(0.24745624745624745, 0.5833333333333334, 'x[0] <= 51.0\\ngini = 0.49\\nsamples = 7\\nvalue = [4, 3]'),\n",
       " Text(0.24094424094424094, 0.5277777777777778, 'x[21] <= 1.5\\ngini = 0.375\\nsamples = 4\\nvalue = [1, 3]'),\n",
       " Text(0.23443223443223443, 0.4722222222222222, 'gini = 0.0\\nsamples = 1\\nvalue = [1, 0]'),\n",
       " Text(0.24745624745624745, 0.4722222222222222, 'gini = 0.0\\nsamples = 3\\nvalue = [0, 3]'),\n",
       " Text(0.25396825396825395, 0.5277777777777778, 'gini = 0.0\\nsamples = 3\\nvalue = [3, 0]'),\n",
       " Text(0.31247456247456246, 0.6388888888888888, 'x[18] <= 1026.5\\ngini = 0.037\\nsamples = 786\\nvalue = [771, 15]'),\n",
       " Text(0.2745217745217745, 0.5833333333333334, 'x[16] <= 2524.0\\ngini = 0.023\\nsamples = 694\\nvalue = [686, 8]'),\n",
       " Text(0.268009768009768, 0.5277777777777778, 'gini = 0.0\\nsamples = 437\\nvalue = [437, 0]'),\n",
       " Text(0.281033781033781, 0.5277777777777778, 'x[21] <= 150.0\\ngini = 0.06\\nsamples = 257\\nvalue = [249, 8]'),\n",
       " Text(0.26048026048026046, 0.4722222222222222, 'x[16] <= 2525.5\\ngini = 0.053\\nsamples = 255\\nvalue = [248, 7]'),\n",
       " Text(0.2389092389092389, 0.4166666666666667, 'x[6] <= 51527.0\\ngini = 0.5\\nsamples = 2\\nvalue = [1, 1]'),\n",
       " Text(0.2323972323972324, 0.3611111111111111, 'gini = 0.0\\nsamples = 1\\nvalue = [0, 1]'),\n",
       " Text(0.2454212454212454, 0.3611111111111111, 'gini = 0.0\\nsamples = 1\\nvalue = [1, 0]'),\n",
       " Text(0.28205128205128205, 0.4166666666666667, 'x[24] <= 137.5\\ngini = 0.046\\nsamples = 253\\nvalue = [247, 6]'),\n",
       " Text(0.25844525844525845, 0.3611111111111111, 'x[15] <= 8.5\\ngini = 0.04\\nsamples = 248\\nvalue = [243, 5]'),\n",
       " Text(0.23076923076923078, 0.3055555555555556, 'x[14] <= 23.5\\ngini = 0.026\\nsamples = 230\\nvalue = [227, 3]'),\n",
       " Text(0.21448921448921449, 0.25, 'x[23] <= 61.5\\ngini = 0.278\\nsamples = 6\\nvalue = [5, 1]'),\n",
       " Text(0.20797720797720798, 0.19444444444444445, 'gini = 0.0\\nsamples = 5\\nvalue = [5, 0]'),\n",
       " Text(0.221001221001221, 0.19444444444444445, 'gini = 0.0\\nsamples = 1\\nvalue = [0, 1]'),\n",
       " Text(0.24704924704924705, 0.25, 'x[22] <= 2.5\\ngini = 0.018\\nsamples = 224\\nvalue = [222, 2]'),\n",
       " Text(0.23402523402523404, 0.19444444444444445, 'x[16] <= 2608.5\\ngini = 0.245\\nsamples = 7\\nvalue = [6, 1]'),\n",
       " Text(0.2275132275132275, 0.1388888888888889, 'gini = 0.5\\nsamples = 2\\nvalue = [1, 1]'),\n",
       " Text(0.24053724053724054, 0.1388888888888889, 'gini = 0.0\\nsamples = 5\\nvalue = [5, 0]'),\n",
       " Text(0.2600732600732601, 0.19444444444444445, 'x[4] <= 0.5\\ngini = 0.009\\nsamples = 217\\nvalue = [216, 1]'),\n",
       " Text(0.2535612535612536, 0.1388888888888889, 'gini = 0.0\\nsamples = 181\\nvalue = [181, 0]'),\n",
       " Text(0.2665852665852666, 0.1388888888888889, 'x[21] <= 18.5\\ngini = 0.054\\nsamples = 36\\nvalue = [35, 1]'),\n",
       " Text(0.2600732600732601, 0.08333333333333333, 'gini = 0.0\\nsamples = 31\\nvalue = [31, 0]'),\n",
       " Text(0.2730972730972731, 0.08333333333333333, 'x[23] <= 19.0\\ngini = 0.32\\nsamples = 5\\nvalue = [4, 1]'),\n",
       " Text(0.2665852665852666, 0.027777777777777776, 'gini = 0.0\\nsamples = 1\\nvalue = [0, 1]'),\n",
       " Text(0.2796092796092796, 0.027777777777777776, 'gini = 0.0\\nsamples = 4\\nvalue = [4, 0]'),\n",
       " Text(0.2861212861212861, 0.3055555555555556, 'x[14] <= 35.5\\ngini = 0.198\\nsamples = 18\\nvalue = [16, 2]'),\n",
       " Text(0.2796092796092796, 0.25, 'x[0] <= 43.5\\ngini = 0.444\\nsamples = 3\\nvalue = [1, 2]'),\n",
       " Text(0.2730972730972731, 0.19444444444444445, 'gini = 0.0\\nsamples = 1\\nvalue = [1, 0]'),\n",
       " Text(0.2861212861212861, 0.19444444444444445, 'gini = 0.0\\nsamples = 2\\nvalue = [0, 2]'),\n",
       " Text(0.29263329263329263, 0.25, 'gini = 0.0\\nsamples = 15\\nvalue = [15, 0]'),\n",
       " Text(0.30565730565730564, 0.3611111111111111, 'x[37] <= 0.209\\ngini = 0.32\\nsamples = 5\\nvalue = [4, 1]'),\n",
       " Text(0.29914529914529914, 0.3055555555555556, 'gini = 0.0\\nsamples = 4\\nvalue = [4, 0]'),\n",
       " Text(0.31216931216931215, 0.3055555555555556, 'gini = 0.0\\nsamples = 1\\nvalue = [0, 1]'),\n",
       " Text(0.30158730158730157, 0.4722222222222222, 'x[13] <= 0.5\\ngini = 0.5\\nsamples = 2\\nvalue = [1, 1]'),\n",
       " Text(0.29507529507529506, 0.4166666666666667, 'gini = 0.0\\nsamples = 1\\nvalue = [0, 1]'),\n",
       " Text(0.3080993080993081, 0.4166666666666667, 'gini = 0.0\\nsamples = 1\\nvalue = [1, 0]'),\n",
       " Text(0.3504273504273504, 0.5833333333333334, 'x[23] <= 18.0\\ngini = 0.141\\nsamples = 92\\nvalue = [85, 7]'),\n",
       " Text(0.33414733414733416, 0.5277777777777778, 'x[28] <= 6.5\\ngini = 0.5\\nsamples = 8\\nvalue = [4, 4]'),\n",
       " Text(0.32763532763532766, 0.4722222222222222, 'x[18] <= 1244.0\\ngini = 0.32\\nsamples = 5\\nvalue = [1, 4]'),\n",
       " Text(0.32112332112332115, 0.4166666666666667, 'gini = 0.0\\nsamples = 4\\nvalue = [0, 4]'),\n",
       " Text(0.33414733414733416, 0.4166666666666667, 'gini = 0.0\\nsamples = 1\\nvalue = [1, 0]'),\n",
       " Text(0.34065934065934067, 0.4722222222222222, 'gini = 0.0\\nsamples = 3\\nvalue = [3, 0]'),\n",
       " Text(0.3667073667073667, 0.5277777777777778, 'x[6] <= 82402.5\\ngini = 0.069\\nsamples = 84\\nvalue = [81, 3]'),\n",
       " Text(0.3536833536833537, 0.4722222222222222, 'x[15] <= 6.5\\ngini = 0.027\\nsamples = 72\\nvalue = [71, 1]'),\n",
       " Text(0.3471713471713472, 0.4166666666666667, 'gini = 0.0\\nsamples = 67\\nvalue = [67, 0]'),\n",
       " Text(0.3601953601953602, 0.4166666666666667, 'x[19] <= 1093.0\\ngini = 0.32\\nsamples = 5\\nvalue = [4, 1]'),\n",
       " Text(0.3536833536833537, 0.3611111111111111, 'gini = 0.0\\nsamples = 1\\nvalue = [0, 1]'),\n",
       " Text(0.3667073667073667, 0.3611111111111111, 'gini = 0.0\\nsamples = 4\\nvalue = [4, 0]'),\n",
       " Text(0.3797313797313797, 0.4722222222222222, 'x[20] <= 671.0\\ngini = 0.278\\nsamples = 12\\nvalue = [10, 2]'),\n",
       " Text(0.3732193732193732, 0.4166666666666667, 'gini = 0.0\\nsamples = 10\\nvalue = [10, 0]'),\n",
       " Text(0.3862433862433862, 0.4166666666666667, 'gini = 0.0\\nsamples = 2\\nvalue = [0, 2]'),\n",
       " Text(0.33201058201058203, 0.6944444444444444, 'x[22] <= 583.0\\ngini = 0.408\\nsamples = 7\\nvalue = [5, 2]'),\n",
       " Text(0.32549857549857547, 0.6388888888888888, 'gini = 0.0\\nsamples = 5\\nvalue = [5, 0]'),\n",
       " Text(0.33852258852258854, 0.6388888888888888, 'gini = 0.0\\nsamples = 2\\nvalue = [0, 2]'),\n",
       " Text(0.35154660154660156, 0.75, 'x[28] <= 7.0\\ngini = 0.5\\nsamples = 4\\nvalue = [2, 2]'),\n",
       " Text(0.34503459503459505, 0.6944444444444444, 'gini = 0.0\\nsamples = 2\\nvalue = [0, 2]'),\n",
       " Text(0.35805860805860806, 0.6944444444444444, 'gini = 0.0\\nsamples = 2\\nvalue = [2, 0]'),\n",
       " Text(0.521978021978022, 0.8611111111111112, 'x[29] <= 6.5\\ngini = 0.37\\nsamples = 192\\nvalue = [145, 47]'),\n",
       " Text(0.45258445258445257, 0.8055555555555556, 'x[25] <= 12.5\\ngini = 0.431\\nsamples = 124\\nvalue = [85, 39]'),\n",
       " Text(0.4057794057794058, 0.75, 'x[14] <= 20.0\\ngini = 0.165\\nsamples = 33\\nvalue = [30, 3]'),\n",
       " Text(0.3992673992673993, 0.6944444444444444, 'x[37] <= 0.442\\ngini = 0.42\\nsamples = 10\\nvalue = [7, 3]'),\n",
       " Text(0.39275539275539273, 0.6388888888888888, 'gini = 0.0\\nsamples = 7\\nvalue = [7, 0]'),\n",
       " Text(0.4057794057794058, 0.6388888888888888, 'gini = 0.0\\nsamples = 3\\nvalue = [0, 3]'),\n",
       " Text(0.4122914122914123, 0.6944444444444444, 'gini = 0.0\\nsamples = 23\\nvalue = [23, 0]'),\n",
       " Text(0.4993894993894994, 0.75, 'x[22] <= 498.0\\ngini = 0.478\\nsamples = 91\\nvalue = [55, 36]'),\n",
       " Text(0.466015466015466, 0.6944444444444444, 'x[29] <= 3.5\\ngini = 0.459\\nsamples = 84\\nvalue = [54, 30]'),\n",
       " Text(0.4188034188034188, 0.6388888888888888, 'x[15] <= 8.5\\ngini = 0.49\\nsamples = 28\\nvalue = [12, 16]'),\n",
       " Text(0.4122914122914123, 0.5833333333333334, 'x[22] <= 8.0\\ngini = 0.49\\nsamples = 21\\nvalue = [12, 9]'),\n",
       " Text(0.4057794057794058, 0.5277777777777778, 'gini = 0.0\\nsamples = 4\\nvalue = [4, 0]'),\n",
       " Text(0.4188034188034188, 0.5277777777777778, 'x[6] <= 26374.0\\ngini = 0.498\\nsamples = 17\\nvalue = [8, 9]'),\n",
       " Text(0.4057794057794058, 0.4722222222222222, 'x[14] <= 78.0\\ngini = 0.245\\nsamples = 7\\nvalue = [1, 6]'),\n",
       " Text(0.3992673992673993, 0.4166666666666667, 'gini = 0.0\\nsamples = 6\\nvalue = [0, 6]'),\n",
       " Text(0.4122914122914123, 0.4166666666666667, 'gini = 0.0\\nsamples = 1\\nvalue = [1, 0]'),\n",
       " Text(0.43182743182743183, 0.4722222222222222, 'x[25] <= 32.5\\ngini = 0.42\\nsamples = 10\\nvalue = [7, 3]'),\n",
       " Text(0.4253154253154253, 0.4166666666666667, 'gini = 0.0\\nsamples = 5\\nvalue = [5, 0]'),\n",
       " Text(0.43833943833943834, 0.4166666666666667, 'x[22] <= 48.5\\ngini = 0.48\\nsamples = 5\\nvalue = [2, 3]'),\n",
       " Text(0.43182743182743183, 0.3611111111111111, 'x[26] <= 3.0\\ngini = 0.5\\nsamples = 4\\nvalue = [2, 2]'),\n",
       " Text(0.4253154253154253, 0.3055555555555556, 'gini = 0.5\\nsamples = 2\\nvalue = [1, 1]'),\n",
       " Text(0.43833943833943834, 0.3055555555555556, 'gini = 0.5\\nsamples = 2\\nvalue = [1, 1]'),\n",
       " Text(0.44485144485144484, 0.3611111111111111, 'gini = 0.0\\nsamples = 1\\nvalue = [0, 1]'),\n",
       " Text(0.4253154253154253, 0.5833333333333334, 'gini = 0.0\\nsamples = 7\\nvalue = [0, 7]'),\n",
       " Text(0.5132275132275133, 0.6388888888888888, 'x[5] <= 0.5\\ngini = 0.375\\nsamples = 56\\nvalue = [42, 14]'),\n",
       " Text(0.49043549043549045, 0.5833333333333334, 'x[0] <= 61.0\\ngini = 0.292\\nsamples = 45\\nvalue = [37, 8]'),\n",
       " Text(0.47741147741147744, 0.5277777777777778, 'x[36] <= 121.315\\ngini = 0.198\\nsamples = 36\\nvalue = [32, 4]'),\n",
       " Text(0.4708994708994709, 0.4722222222222222, 'x[10] <= 0.5\\ngini = 0.157\\nsamples = 35\\nvalue = [32, 3]'),\n",
       " Text(0.46438746438746437, 0.4166666666666667, 'x[25] <= 184.5\\ngini = 0.111\\nsamples = 34\\nvalue = [32, 2]'),\n",
       " Text(0.45787545787545786, 0.3611111111111111, 'x[23] <= 5.0\\ngini = 0.061\\nsamples = 32\\nvalue = [31, 1]'),\n",
       " Text(0.45136345136345135, 0.3055555555555556, 'x[19] <= 288.0\\ngini = 0.245\\nsamples = 7\\nvalue = [6, 1]'),\n",
       " Text(0.44485144485144484, 0.25, 'gini = 0.0\\nsamples = 6\\nvalue = [6, 0]'),\n",
       " Text(0.45787545787545786, 0.25, 'gini = 0.0\\nsamples = 1\\nvalue = [0, 1]'),\n",
       " Text(0.46438746438746437, 0.3055555555555556, 'gini = 0.0\\nsamples = 25\\nvalue = [25, 0]'),\n",
       " Text(0.4708994708994709, 0.3611111111111111, 'gini = 0.5\\nsamples = 2\\nvalue = [1, 1]'),\n",
       " Text(0.47741147741147744, 0.4166666666666667, 'gini = 0.0\\nsamples = 1\\nvalue = [0, 1]'),\n",
       " Text(0.48392348392348394, 0.4722222222222222, 'gini = 0.0\\nsamples = 1\\nvalue = [0, 1]'),\n",
       " Text(0.5034595034595034, 0.5277777777777778, 'x[0] <= 63.5\\ngini = 0.494\\nsamples = 9\\nvalue = [5, 4]'),\n",
       " Text(0.49694749694749696, 0.4722222222222222, 'gini = 0.0\\nsamples = 3\\nvalue = [0, 3]'),\n",
       " Text(0.50997150997151, 0.4722222222222222, 'x[25] <= 13.5\\ngini = 0.278\\nsamples = 6\\nvalue = [5, 1]'),\n",
       " Text(0.5034595034595034, 0.4166666666666667, 'gini = 0.0\\nsamples = 1\\nvalue = [0, 1]'),\n",
       " Text(0.5164835164835165, 0.4166666666666667, 'gini = 0.0\\nsamples = 5\\nvalue = [5, 0]'),\n",
       " Text(0.536019536019536, 0.5833333333333334, 'x[9] <= 0.5\\ngini = 0.496\\nsamples = 11\\nvalue = [5, 6]'),\n",
       " Text(0.5295075295075296, 0.5277777777777778, 'x[6] <= 64979.5\\ngini = 0.375\\nsamples = 8\\nvalue = [2, 6]'),\n",
       " Text(0.522995522995523, 0.4722222222222222, 'gini = 0.0\\nsamples = 5\\nvalue = [0, 5]'),\n",
       " Text(0.536019536019536, 0.4722222222222222, 'x[13] <= 0.5\\ngini = 0.444\\nsamples = 3\\nvalue = [2, 1]'),\n",
       " Text(0.5295075295075296, 0.4166666666666667, 'gini = 0.0\\nsamples = 1\\nvalue = [0, 1]'),\n",
       " Text(0.5425315425315426, 0.4166666666666667, 'gini = 0.0\\nsamples = 2\\nvalue = [2, 0]'),\n",
       " Text(0.5425315425315426, 0.5277777777777778, 'gini = 0.0\\nsamples = 3\\nvalue = [3, 0]'),\n",
       " Text(0.5327635327635327, 0.6944444444444444, 'x[5] <= 0.5\\ngini = 0.245\\nsamples = 7\\nvalue = [1, 6]'),\n",
       " Text(0.5262515262515263, 0.6388888888888888, 'gini = 0.0\\nsamples = 6\\nvalue = [0, 6]'),\n",
       " Text(0.5392755392755393, 0.6388888888888888, 'gini = 0.0\\nsamples = 1\\nvalue = [1, 0]'),\n",
       " Text(0.5913715913715913, 0.8055555555555556, 'x[29] <= 12.5\\ngini = 0.208\\nsamples = 68\\nvalue = [60, 8]'),\n",
       " Text(0.575091575091575, 0.75, 'x[20] <= 889.0\\ngini = 0.148\\nsamples = 62\\nvalue = [57, 5]'),\n",
       " Text(0.562067562067562, 0.6944444444444444, 'x[20] <= 130.0\\ngini = 0.04\\nsamples = 49\\nvalue = [48, 1]'),\n",
       " Text(0.5555555555555556, 0.6388888888888888, 'x[36] <= 33.455\\ngini = 0.444\\nsamples = 3\\nvalue = [2, 1]'),\n",
       " Text(0.549043549043549, 0.5833333333333334, 'gini = 0.0\\nsamples = 2\\nvalue = [2, 0]'),\n",
       " Text(0.562067562067562, 0.5833333333333334, 'gini = 0.0\\nsamples = 1\\nvalue = [0, 1]'),\n",
       " Text(0.5685795685795686, 0.6388888888888888, 'gini = 0.0\\nsamples = 46\\nvalue = [46, 0]'),\n",
       " Text(0.5881155881155881, 0.6944444444444444, 'x[0] <= 64.0\\ngini = 0.426\\nsamples = 13\\nvalue = [9, 4]'),\n",
       " Text(0.5816035816035816, 0.6388888888888888, 'x[14] <= 7.0\\ngini = 0.298\\nsamples = 11\\nvalue = [9, 2]'),\n",
       " Text(0.575091575091575, 0.5833333333333334, 'gini = 0.0\\nsamples = 1\\nvalue = [0, 1]'),\n",
       " Text(0.5881155881155881, 0.5833333333333334, 'x[24] <= 139.5\\ngini = 0.18\\nsamples = 10\\nvalue = [9, 1]'),\n",
       " Text(0.5816035816035816, 0.5277777777777778, 'gini = 0.0\\nsamples = 9\\nvalue = [9, 0]'),\n",
       " Text(0.5946275946275946, 0.5277777777777778, 'gini = 0.0\\nsamples = 1\\nvalue = [0, 1]'),\n",
       " Text(0.5946275946275946, 0.6388888888888888, 'gini = 0.0\\nsamples = 2\\nvalue = [0, 2]'),\n",
       " Text(0.6076516076516076, 0.75, 'x[24] <= 49.5\\ngini = 0.5\\nsamples = 6\\nvalue = [3, 3]'),\n",
       " Text(0.6011396011396012, 0.6944444444444444, 'gini = 0.0\\nsamples = 3\\nvalue = [0, 3]'),\n",
       " Text(0.6141636141636142, 0.6944444444444444, 'gini = 0.0\\nsamples = 3\\nvalue = [3, 0]'),\n",
       " Text(0.8331298331298331, 0.9166666666666666, 'x[35] <= 1.5\\ngini = 0.487\\nsamples = 309\\nvalue = [179, 130]'),\n",
       " Text(0.7313797313797313, 0.8611111111111112, 'x[14] <= 19.5\\ngini = 0.435\\nsamples = 216\\nvalue = [147, 69]'),\n",
       " Text(0.6564916564916565, 0.8055555555555556, 'x[6] <= 64687.5\\ngini = 0.463\\nsamples = 44\\nvalue = [16, 28]'),\n",
       " Text(0.6402116402116402, 0.75, 'x[16] <= 2221.5\\ngini = 0.32\\nsamples = 25\\nvalue = [5, 20]'),\n",
       " Text(0.6271876271876272, 0.6944444444444444, 'x[6] <= 55477.0\\ngini = 0.444\\nsamples = 3\\nvalue = [2, 1]'),\n",
       " Text(0.6206756206756207, 0.6388888888888888, 'gini = 0.0\\nsamples = 2\\nvalue = [2, 0]'),\n",
       " Text(0.6336996336996337, 0.6388888888888888, 'gini = 0.0\\nsamples = 1\\nvalue = [0, 1]'),\n",
       " Text(0.6532356532356532, 0.6944444444444444, 'x[23] <= 86.0\\ngini = 0.236\\nsamples = 22\\nvalue = [3, 19]'),\n",
       " Text(0.6467236467236467, 0.6388888888888888, 'x[0] <= 29.0\\ngini = 0.172\\nsamples = 21\\nvalue = [2, 19]'),\n",
       " Text(0.6402116402116402, 0.5833333333333334, 'gini = 0.0\\nsamples = 1\\nvalue = [1, 0]'),\n",
       " Text(0.6532356532356532, 0.5833333333333334, 'x[29] <= 9.5\\ngini = 0.095\\nsamples = 20\\nvalue = [1, 19]'),\n",
       " Text(0.6467236467236467, 0.5277777777777778, 'gini = 0.0\\nsamples = 18\\nvalue = [0, 18]'),\n",
       " Text(0.6597476597476597, 0.5277777777777778, 'gini = 0.5\\nsamples = 2\\nvalue = [1, 1]'),\n",
       " Text(0.6597476597476597, 0.6388888888888888, 'gini = 0.0\\nsamples = 1\\nvalue = [1, 0]'),\n",
       " Text(0.6727716727716728, 0.75, 'x[25] <= 28.5\\ngini = 0.488\\nsamples = 19\\nvalue = [11, 8]'),\n",
       " Text(0.6662596662596663, 0.6944444444444444, 'gini = 0.0\\nsamples = 5\\nvalue = [5, 0]'),\n",
       " Text(0.6792836792836793, 0.6944444444444444, 'x[37] <= 0.049\\ngini = 0.49\\nsamples = 14\\nvalue = [6, 8]'),\n",
       " Text(0.6727716727716728, 0.6388888888888888, 'gini = 0.0\\nsamples = 3\\nvalue = [3, 0]'),\n",
       " Text(0.6857956857956858, 0.6388888888888888, 'x[29] <= 9.5\\ngini = 0.397\\nsamples = 11\\nvalue = [3, 8]'),\n",
       " Text(0.6792836792836793, 0.5833333333333334, 'x[22] <= 845.5\\ngini = 0.198\\nsamples = 9\\nvalue = [1, 8]'),\n",
       " Text(0.6727716727716728, 0.5277777777777778, 'gini = 0.0\\nsamples = 8\\nvalue = [0, 8]'),\n",
       " Text(0.6857956857956858, 0.5277777777777778, 'gini = 0.0\\nsamples = 1\\nvalue = [1, 0]'),\n",
       " Text(0.6923076923076923, 0.5833333333333334, 'gini = 0.0\\nsamples = 2\\nvalue = [2, 0]'),\n",
       " Text(0.8062678062678063, 0.8055555555555556, 'x[16] <= 2611.0\\ngini = 0.363\\nsamples = 172\\nvalue = [131, 41]'),\n",
       " Text(0.7557997557997558, 0.75, 'x[6] <= 86411.5\\ngini = 0.237\\nsamples = 109\\nvalue = [94, 15]'),\n",
       " Text(0.7281237281237282, 0.6944444444444444, 'x[20] <= 21.5\\ngini = 0.182\\nsamples = 99\\nvalue = [89, 10]'),\n",
       " Text(0.7118437118437119, 0.6388888888888888, 'x[14] <= 61.5\\ngini = 0.48\\nsamples = 15\\nvalue = [9, 6]'),\n",
       " Text(0.7053317053317053, 0.5833333333333334, 'x[20] <= 8.5\\ngini = 0.48\\nsamples = 10\\nvalue = [4, 6]'),\n",
       " Text(0.6988196988196989, 0.5277777777777778, 'gini = 0.0\\nsamples = 2\\nvalue = [2, 0]'),\n",
       " Text(0.7118437118437119, 0.5277777777777778, 'x[7] <= 0.5\\ngini = 0.375\\nsamples = 8\\nvalue = [2, 6]'),\n",
       " Text(0.7053317053317053, 0.4722222222222222, 'x[18] <= 25.5\\ngini = 0.48\\nsamples = 5\\nvalue = [2, 3]'),\n",
       " Text(0.6988196988196989, 0.4166666666666667, 'gini = 0.0\\nsamples = 1\\nvalue = [0, 1]'),\n",
       " Text(0.7118437118437119, 0.4166666666666667, 'x[15] <= 6.5\\ngini = 0.5\\nsamples = 4\\nvalue = [2, 2]'),\n",
       " Text(0.7053317053317053, 0.3611111111111111, 'gini = 0.5\\nsamples = 2\\nvalue = [1, 1]'),\n",
       " Text(0.7183557183557183, 0.3611111111111111, 'gini = 0.5\\nsamples = 2\\nvalue = [1, 1]'),\n",
       " Text(0.7183557183557183, 0.4722222222222222, 'gini = 0.0\\nsamples = 3\\nvalue = [0, 3]'),\n",
       " Text(0.7183557183557183, 0.5833333333333334, 'gini = 0.0\\nsamples = 5\\nvalue = [5, 0]'),\n",
       " Text(0.7444037444037443, 0.6388888888888888, 'x[21] <= 88.5\\ngini = 0.091\\nsamples = 84\\nvalue = [80, 4]'),\n",
       " Text(0.7313797313797313, 0.5833333333333334, 'x[37] <= 0.646\\ngini = 0.028\\nsamples = 71\\nvalue = [70, 1]'),\n",
       " Text(0.7248677248677249, 0.5277777777777778, 'gini = 0.0\\nsamples = 68\\nvalue = [68, 0]'),\n",
       " Text(0.7378917378917379, 0.5277777777777778, 'x[19] <= 76.5\\ngini = 0.444\\nsamples = 3\\nvalue = [2, 1]'),\n",
       " Text(0.7313797313797313, 0.4722222222222222, 'gini = 0.0\\nsamples = 2\\nvalue = [2, 0]'),\n",
       " Text(0.7444037444037443, 0.4722222222222222, 'gini = 0.0\\nsamples = 1\\nvalue = [0, 1]'),\n",
       " Text(0.7574277574277575, 0.5833333333333334, 'x[21] <= 98.5\\ngini = 0.355\\nsamples = 13\\nvalue = [10, 3]'),\n",
       " Text(0.7509157509157509, 0.5277777777777778, 'gini = 0.0\\nsamples = 3\\nvalue = [0, 3]'),\n",
       " Text(0.7639397639397639, 0.5277777777777778, 'gini = 0.0\\nsamples = 10\\nvalue = [10, 0]'),\n",
       " Text(0.7834757834757835, 0.6944444444444444, 'x[16] <= 2293.0\\ngini = 0.5\\nsamples = 10\\nvalue = [5, 5]'),\n",
       " Text(0.7769637769637769, 0.6388888888888888, 'gini = 0.0\\nsamples = 3\\nvalue = [3, 0]'),\n",
       " Text(0.78998778998779, 0.6388888888888888, 'x[16] <= 2596.0\\ngini = 0.408\\nsamples = 7\\nvalue = [2, 5]'),\n",
       " Text(0.7834757834757835, 0.5833333333333334, 'x[15] <= 1.5\\ngini = 0.278\\nsamples = 6\\nvalue = [1, 5]'),\n",
       " Text(0.7769637769637769, 0.5277777777777778, 'gini = 0.5\\nsamples = 2\\nvalue = [1, 1]'),\n",
       " Text(0.78998778998779, 0.5277777777777778, 'gini = 0.0\\nsamples = 4\\nvalue = [0, 4]'),\n",
       " Text(0.7964997964997965, 0.5833333333333334, 'gini = 0.0\\nsamples = 1\\nvalue = [1, 0]'),\n",
       " Text(0.8567358567358567, 0.75, 'x[0] <= 70.0\\ngini = 0.485\\nsamples = 63\\nvalue = [37, 26]'),\n",
       " Text(0.8502238502238503, 0.6944444444444444, 'x[36] <= 97.616\\ngini = 0.468\\nsamples = 59\\nvalue = [37, 22]'),\n",
       " Text(0.8323158323158323, 0.6388888888888888, 'x[16] <= 2827.0\\ngini = 0.42\\nsamples = 50\\nvalue = [35, 15]'),\n",
       " Text(0.816035816035816, 0.5833333333333334, 'x[20] <= 171.0\\ngini = 0.351\\nsamples = 44\\nvalue = [34, 10]'),\n",
       " Text(0.803011803011803, 0.5277777777777778, 'x[22] <= 30.5\\ngini = 0.486\\nsamples = 12\\nvalue = [5, 7]'),\n",
       " Text(0.7964997964997965, 0.4722222222222222, 'x[18] <= 43.0\\ngini = 0.469\\nsamples = 8\\nvalue = [5, 3]'),\n",
       " Text(0.78998778998779, 0.4166666666666667, 'x[24] <= 9.0\\ngini = 0.375\\nsamples = 4\\nvalue = [1, 3]'),\n",
       " Text(0.7834757834757835, 0.3611111111111111, 'gini = 0.0\\nsamples = 3\\nvalue = [0, 3]'),\n",
       " Text(0.7964997964997965, 0.3611111111111111, 'gini = 0.0\\nsamples = 1\\nvalue = [1, 0]'),\n",
       " Text(0.803011803011803, 0.4166666666666667, 'gini = 0.0\\nsamples = 4\\nvalue = [4, 0]'),\n",
       " Text(0.8095238095238095, 0.4722222222222222, 'gini = 0.0\\nsamples = 4\\nvalue = [0, 4]'),\n",
       " Text(0.8290598290598291, 0.5277777777777778, 'x[5] <= 0.5\\ngini = 0.17\\nsamples = 32\\nvalue = [29, 3]'),\n",
       " Text(0.8225478225478225, 0.4722222222222222, 'gini = 0.0\\nsamples = 21\\nvalue = [21, 0]'),\n",
       " Text(0.8355718355718356, 0.4722222222222222, 'x[29] <= 5.5\\ngini = 0.397\\nsamples = 11\\nvalue = [8, 3]'),\n",
       " Text(0.8290598290598291, 0.4166666666666667, 'x[6] <= 60216.5\\ngini = 0.375\\nsamples = 4\\nvalue = [1, 3]'),\n",
       " Text(0.8225478225478225, 0.3611111111111111, 'gini = 0.0\\nsamples = 2\\nvalue = [0, 2]'),\n",
       " Text(0.8355718355718356, 0.3611111111111111, 'gini = 0.5\\nsamples = 2\\nvalue = [1, 1]'),\n",
       " Text(0.8420838420838421, 0.4166666666666667, 'gini = 0.0\\nsamples = 7\\nvalue = [7, 0]'),\n",
       " Text(0.8485958485958486, 0.5833333333333334, 'x[27] <= 10.0\\ngini = 0.278\\nsamples = 6\\nvalue = [1, 5]'),\n",
       " Text(0.8420838420838421, 0.5277777777777778, 'gini = 0.0\\nsamples = 5\\nvalue = [0, 5]'),\n",
       " Text(0.8551078551078551, 0.5277777777777778, 'gini = 0.0\\nsamples = 1\\nvalue = [1, 0]'),\n",
       " Text(0.8681318681318682, 0.6388888888888888, 'x[21] <= 134.0\\ngini = 0.346\\nsamples = 9\\nvalue = [2, 7]'),\n",
       " Text(0.8616198616198616, 0.5833333333333334, 'gini = 0.0\\nsamples = 7\\nvalue = [0, 7]'),\n",
       " Text(0.8746438746438746, 0.5833333333333334, 'gini = 0.0\\nsamples = 2\\nvalue = [2, 0]'),\n",
       " Text(0.8632478632478633, 0.6944444444444444, 'gini = 0.0\\nsamples = 4\\nvalue = [0, 4]'),\n",
       " Text(0.9348799348799349, 0.8611111111111112, 'x[25] <= 43.5\\ngini = 0.451\\nsamples = 93\\nvalue = [32, 61]'),\n",
       " Text(0.9023199023199023, 0.8055555555555556, 'x[16] <= 2482.5\\ngini = 0.495\\nsamples = 42\\nvalue = [23, 19]'),\n",
       " Text(0.8827838827838828, 0.75, 'x[14] <= 7.0\\ngini = 0.375\\nsamples = 24\\nvalue = [18, 6]'),\n",
       " Text(0.8762718762718763, 0.6944444444444444, 'gini = 0.0\\nsamples = 3\\nvalue = [0, 3]'),\n",
       " Text(0.8892958892958893, 0.6944444444444444, 'x[35] <= 2.5\\ngini = 0.245\\nsamples = 21\\nvalue = [18, 3]'),\n",
       " Text(0.8827838827838828, 0.6388888888888888, 'gini = 0.0\\nsamples = 14\\nvalue = [14, 0]'),\n",
       " Text(0.8958078958078958, 0.6388888888888888, 'x[23] <= 47.5\\ngini = 0.49\\nsamples = 7\\nvalue = [4, 3]'),\n",
       " Text(0.8892958892958893, 0.5833333333333334, 'x[26] <= 2.0\\ngini = 0.375\\nsamples = 4\\nvalue = [1, 3]'),\n",
       " Text(0.8827838827838828, 0.5277777777777778, 'gini = 0.0\\nsamples = 3\\nvalue = [0, 3]'),\n",
       " Text(0.8958078958078958, 0.5277777777777778, 'gini = 0.0\\nsamples = 1\\nvalue = [1, 0]'),\n",
       " Text(0.9023199023199023, 0.5833333333333334, 'gini = 0.0\\nsamples = 3\\nvalue = [3, 0]'),\n",
       " Text(0.9218559218559218, 0.75, 'x[27] <= 4.5\\ngini = 0.401\\nsamples = 18\\nvalue = [5, 13]'),\n",
       " Text(0.9153439153439153, 0.6944444444444444, 'x[20] <= 1071.0\\ngini = 0.408\\nsamples = 7\\nvalue = [5, 2]'),\n",
       " Text(0.9088319088319088, 0.6388888888888888, 'gini = 0.0\\nsamples = 2\\nvalue = [0, 2]'),\n",
       " Text(0.9218559218559218, 0.6388888888888888, 'gini = 0.0\\nsamples = 5\\nvalue = [5, 0]'),\n",
       " Text(0.9283679283679284, 0.6944444444444444, 'gini = 0.0\\nsamples = 11\\nvalue = [0, 11]'),\n",
       " Text(0.9674399674399674, 0.8055555555555556, 'x[14] <= 69.5\\ngini = 0.291\\nsamples = 51\\nvalue = [9, 42]'),\n",
       " Text(0.9544159544159544, 0.75, 'x[23] <= 222.0\\ngini = 0.145\\nsamples = 38\\nvalue = [3, 35]'),\n",
       " Text(0.9479039479039479, 0.6944444444444444, 'x[23] <= 199.5\\ngini = 0.102\\nsamples = 37\\nvalue = [2, 35]'),\n",
       " Text(0.9348799348799349, 0.6388888888888888, 'x[25] <= 44.5\\ngini = 0.057\\nsamples = 34\\nvalue = [1, 33]'),\n",
       " Text(0.9283679283679284, 0.5833333333333334, 'x[22] <= 310.5\\ngini = 0.444\\nsamples = 3\\nvalue = [1, 2]'),\n",
       " Text(0.9218559218559218, 0.5277777777777778, 'gini = 0.0\\nsamples = 1\\nvalue = [1, 0]'),\n",
       " Text(0.9348799348799349, 0.5277777777777778, 'gini = 0.0\\nsamples = 2\\nvalue = [0, 2]'),\n",
       " Text(0.9413919413919414, 0.5833333333333334, 'gini = 0.0\\nsamples = 31\\nvalue = [0, 31]'),\n",
       " Text(0.960927960927961, 0.6388888888888888, 'x[24] <= 97.0\\ngini = 0.444\\nsamples = 3\\nvalue = [1, 2]'),\n",
       " Text(0.9544159544159544, 0.5833333333333334, 'gini = 0.0\\nsamples = 2\\nvalue = [0, 2]'),\n",
       " Text(0.9674399674399674, 0.5833333333333334, 'gini = 0.0\\nsamples = 1\\nvalue = [1, 0]'),\n",
       " Text(0.960927960927961, 0.6944444444444444, 'gini = 0.0\\nsamples = 1\\nvalue = [1, 0]'),\n",
       " Text(0.9804639804639804, 0.75, 'x[3] <= 0.5\\ngini = 0.497\\nsamples = 13\\nvalue = [6, 7]'),\n",
       " Text(0.973951973951974, 0.6944444444444444, 'gini = 0.0\\nsamples = 6\\nvalue = [0, 6]'),\n",
       " Text(0.986975986975987, 0.6944444444444444, 'x[15] <= 7.0\\ngini = 0.245\\nsamples = 7\\nvalue = [6, 1]'),\n",
       " Text(0.9804639804639804, 0.6388888888888888, 'gini = 0.0\\nsamples = 6\\nvalue = [6, 0]'),\n",
       " Text(0.9934879934879934, 0.6388888888888888, 'gini = 0.0\\nsamples = 1\\nvalue = [0, 1]')]"
      ]
     },
     "execution_count": 129,
     "metadata": {},
     "output_type": "execute_result"
    },
    {
     "data": {
      "image/png": "[encoded data removed]",
      "text/plain": [
       "<Figure size 640x480 with 1 Axes>"
      ]
     },
     "metadata": {},
     "output_type": "display_data"
    }
   ],
   "source": [
    "from sklearn import tree\n",
    "tree.plot_tree(decision_tree_model)"
   ]
  },
  {
   "cell_type": "markdown",
   "metadata": {},
   "source": [
    "## **2- KNN Model**"
   ]
  },
  {
   "cell_type": "code",
   "execution_count": 121,
   "metadata": {},
   "outputs": [
    {
     "data": {
      "text/html": [
       "<style>#sk-container-id-4 {color: black;background-color: white;}#sk-container-id-4 pre{padding: 0;}#sk-container-id-4 div.sk-toggleable {background-color: white;}#sk-container-id-4 label.sk-toggleable__label {cursor: pointer;display: block;width: 100%;margin-bottom: 0;padding: 0.3em;box-sizing: border-box;text-align: center;}#sk-container-id-4 label.sk-toggleable__label-arrow:before {content: \"▸\";float: left;margin-right: 0.25em;color: #696969;}#sk-container-id-4 label.sk-toggleable__label-arrow:hover:before {color: black;}#sk-container-id-4 div.sk-estimator:hover label.sk-toggleable__label-arrow:before {color: black;}#sk-container-id-4 div.sk-toggleable__content {max-height: 0;max-width: 0;overflow: hidden;text-align: left;background-color: #f0f8ff;}#sk-container-id-4 div.sk-toggleable__content pre {margin: 0.2em;color: black;border-radius: 0.25em;background-color: #f0f8ff;}#sk-container-id-4 input.sk-toggleable__control:checked~div.sk-toggleable__content {max-height: 200px;max-width: 100%;overflow: auto;}#sk-container-id-4 input.sk-toggleable__control:checked~label.sk-toggleable__label-arrow:before {content: \"▾\";}#sk-container-id-4 div.sk-estimator input.sk-toggleable__control:checked~label.sk-toggleable__label {background-color: #d4ebff;}#sk-container-id-4 div.sk-label input.sk-toggleable__control:checked~label.sk-toggleable__label {background-color: #d4ebff;}#sk-container-id-4 input.sk-hidden--visually {border: 0;clip: rect(1px 1px 1px 1px);clip: rect(1px, 1px, 1px, 1px);height: 1px;margin: -1px;overflow: hidden;padding: 0;position: absolute;width: 1px;}#sk-container-id-4 div.sk-estimator {font-family: monospace;background-color: #f0f8ff;border: 1px dotted black;border-radius: 0.25em;box-sizing: border-box;margin-bottom: 0.5em;}#sk-container-id-4 div.sk-estimator:hover {background-color: #d4ebff;}#sk-container-id-4 div.sk-parallel-item::after {content: \"\";width: 100%;border-bottom: 1px solid gray;flex-grow: 1;}#sk-container-id-4 div.sk-label:hover label.sk-toggleable__label {background-color: #d4ebff;}#sk-container-id-4 div.sk-serial::before {content: \"\";position: absolute;border-left: 1px solid gray;box-sizing: border-box;top: 0;bottom: 0;left: 50%;z-index: 0;}#sk-container-id-4 div.sk-serial {display: flex;flex-direction: column;align-items: center;background-color: white;padding-right: 0.2em;padding-left: 0.2em;position: relative;}#sk-container-id-4 div.sk-item {position: relative;z-index: 1;}#sk-container-id-4 div.sk-parallel {display: flex;align-items: stretch;justify-content: center;background-color: white;position: relative;}#sk-container-id-4 div.sk-item::before, #sk-container-id-4 div.sk-parallel-item::before {content: \"\";position: absolute;border-left: 1px solid gray;box-sizing: border-box;top: 0;bottom: 0;left: 50%;z-index: -1;}#sk-container-id-4 div.sk-parallel-item {display: flex;flex-direction: column;z-index: 1;position: relative;background-color: white;}#sk-container-id-4 div.sk-parallel-item:first-child::after {align-self: flex-end;width: 50%;}#sk-container-id-4 div.sk-parallel-item:last-child::after {align-self: flex-start;width: 50%;}#sk-container-id-4 div.sk-parallel-item:only-child::after {width: 0;}#sk-container-id-4 div.sk-dashed-wrapped {border: 1px dashed gray;margin: 0 0.4em 0.5em 0.4em;box-sizing: border-box;padding-bottom: 0.4em;background-color: white;}#sk-container-id-4 div.sk-label label {font-family: monospace;font-weight: bold;display: inline-block;line-height: 1.2em;}#sk-container-id-4 div.sk-label-container {text-align: center;}#sk-container-id-4 div.sk-container {/* jupyter's `normalize.less` sets `[hidden] { display: none; }` but bootstrap.min.css set `[hidden] { display: none !important; }` so we also need the `!important` here to be able to override the default hidden behavior on the sphinx rendered scikit-learn.org. See: https://github.com/scikit-learn/scikit-learn/issues/21755 */display: inline-block !important;position: relative;}#sk-container-id-4 div.sk-text-repr-fallback {display: none;}</style><div id=\"sk-container-id-4\" class=\"sk-top-container\"><div class=\"sk-text-repr-fallback\"><pre>KNeighborsClassifier()</pre><b>In a Jupyter environment, please rerun this cell to show the HTML representation or trust the notebook. <br />On GitHub, the HTML representation is unable to render, please try loading this page with nbviewer.org.</b></div><div class=\"sk-container\" hidden><div class=\"sk-item\"><div class=\"sk-estimator sk-toggleable\"><input class=\"sk-toggleable__control sk-hidden--visually\" id=\"sk-estimator-id-6\" type=\"checkbox\" checked><label for=\"sk-estimator-id-6\" class=\"sk-toggleable__label sk-toggleable__label-arrow\">KNeighborsClassifier</label><div class=\"sk-toggleable__content\"><pre>KNeighborsClassifier()</pre></div></div></div></div></div>"
      ],
      "text/plain": [
       "KNeighborsClassifier()"
      ]
     },
     "execution_count": 121,
     "metadata": {},
     "output_type": "execute_result"
    }
   ],
   "source": [
    "KNN_model = KNeighborsClassifier()\n",
    "KNN_model.fit(X_train, y_train)"
   ]
  },
  {
   "cell_type": "code",
   "execution_count": 122,
   "metadata": {},
   "outputs": [],
   "source": [
    "y_pred = KNN_model.predict(X_test)"
   ]
  },
  {
   "cell_type": "code",
   "execution_count": 123,
   "metadata": {},
   "outputs": [
    {
     "name": "stdout",
     "output_type": "stream",
     "text": [
      "              precision    recall  f1-score   support\n",
      "\n",
      "           0       0.85      0.95      0.90       428\n",
      "           1       0.27      0.10      0.15        78\n",
      "\n",
      "    accuracy                           0.82       506\n",
      "   macro avg       0.56      0.53      0.52       506\n",
      "weighted avg       0.76      0.82      0.78       506\n",
      "\n"
     ]
    }
   ],
   "source": [
    "print(classification_report(y_test, y_pred))"
   ]
  },
  {
   "cell_type": "code",
   "execution_count": 124,
   "metadata": {},
   "outputs": [
    {
     "data": {
      "image/png": "[encoded data removed]",
      "text/plain": [
       "<Figure size 640x480 with 2 Axes>"
      ]
     },
     "metadata": {},
     "output_type": "display_data"
    }
   ],
   "source": [
    "KNN_cm = confusion_matrix(y_test, y_pred, \n",
    "                                    labels=KNN_model.classes_)\n",
    "#display confusion matrix\n",
    "KNN_display = ConfusionMatrixDisplay(confusion_matrix=KNN_cm, \n",
    "                                  display_labels=KNN_model.classes_)\n",
    "#Plot the confusion matrix\n",
    "KNN_display.plot(values_format='')\n",
    "plt.show()"
   ]
  }
 ],
 "metadata": {
  "kaggle": {
   "accelerator": "none",
   "dataSources": [
    {
     "datasetId": 1046184,
     "sourceId": 3263541,
     "sourceType": "datasetVersion"
    }
   ],
   "dockerImageVersionId": 30558,
   "isGpuEnabled": false,
   "isInternetEnabled": true,
   "language": "python",
   "sourceType": "notebook"
  },
  "kernelspec": {
   "display_name": "Python 3 (ipykernel)",
   "language": "python",
   "name": "python3"
  },
  "language_info": {
   "codemirror_mode": {
    "name": "ipython",
    "version": 3
   },
   "file_extension": ".py",
   "mimetype": "text/x-python",
   "name": "python",
   "nbconvert_exporter": "python",
   "pygments_lexer": "ipython3",
   "version": "3.11.4"
  }
 },
 "nbformat": 4,
 "nbformat_minor": 4
}
